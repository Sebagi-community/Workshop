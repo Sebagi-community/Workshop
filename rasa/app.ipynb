{
 "cells": [
  {
   "cell_type": "markdown",
   "metadata": {
    "id": "VslRO3AX56mu"
   },
   "source": [
    "# 파이썬을 활용한 챗봇 실행파일\n"
   ]
  },
  {
   "cell_type": "code",
   "execution_count": 2,
   "metadata": {
    "colab": {
     "base_uri": "https://localhost:8080/"
    },
    "id": "eMvx_5TMmSZ_",
    "outputId": "64bb6e59-6a33-44d9-a26a-d79082323194"
   },
   "outputs": [
    {
     "name": "stdout",
     "output_type": "stream",
     "text": [
      "Requirement already satisfied: sounddevice in /Users/do-sunkim/anaconda3/lib/python3.10/site-packages (0.4.7)\r\n",
      "Requirement already satisfied: numpy in /Users/do-sunkim/anaconda3/lib/python3.10/site-packages (1.23.5)\r\n",
      "Requirement already satisfied: SpeechRecognition in /Users/do-sunkim/anaconda3/lib/python3.10/site-packages (3.10.4)\r\n",
      "Requirement already satisfied: beautifulsoup4 in /Users/do-sunkim/anaconda3/lib/python3.10/site-packages (4.12.2)\r\n",
      "Requirement already satisfied: CFFI>=1.0 in /Users/do-sunkim/anaconda3/lib/python3.10/site-packages (from sounddevice) (1.15.1)\r\n",
      "Requirement already satisfied: requests>=2.26.0 in /Users/do-sunkim/anaconda3/lib/python3.10/site-packages (from SpeechRecognition) (2.32.3)\r\n",
      "Requirement already satisfied: typing-extensions in /Users/do-sunkim/anaconda3/lib/python3.10/site-packages (from SpeechRecognition) (4.7.1)\r\n",
      "Requirement already satisfied: soupsieve>1.2 in /Users/do-sunkim/anaconda3/lib/python3.10/site-packages (from beautifulsoup4) (2.4.1)\r\n",
      "Requirement already satisfied: pycparser in /Users/do-sunkim/anaconda3/lib/python3.10/site-packages (from CFFI>=1.0->sounddevice) (2.21)\r\n",
      "Requirement already satisfied: charset-normalizer<4,>=2 in /Users/do-sunkim/anaconda3/lib/python3.10/site-packages (from requests>=2.26.0->SpeechRecognition) (3.2.0)\r\n",
      "Requirement already satisfied: idna<4,>=2.5 in /Users/do-sunkim/anaconda3/lib/python3.10/site-packages (from requests>=2.26.0->SpeechRecognition) (3.4)\r\n",
      "Requirement already satisfied: urllib3<3,>=1.21.1 in /Users/do-sunkim/anaconda3/lib/python3.10/site-packages (from requests>=2.26.0->SpeechRecognition) (1.26.16)\r\n",
      "Requirement already satisfied: certifi>=2017.4.17 in /Users/do-sunkim/anaconda3/lib/python3.10/site-packages (from requests>=2.26.0->SpeechRecognition) (2023.7.22)\r\n"
     ]
    }
   ],
   "source": [
    "!pip install sounddevice numpy SpeechRecognition beautifulsoup4"
   ]
  },
  {
   "cell_type": "code",
   "execution_count": 3,
   "metadata": {
    "colab": {
     "base_uri": "https://localhost:8080/"
    },
    "id": "BwIZWYktmSaA",
    "outputId": "26750959-ae78-4711-ac45-a90fa768e9cf"
   },
   "outputs": [
    {
     "name": "stdout",
     "output_type": "stream",
     "text": [
      "Requirement already satisfied: sounddevice in /Users/do-sunkim/anaconda3/lib/python3.10/site-packages (0.4.7)\r\n",
      "Requirement already satisfied: soundfile in /Users/do-sunkim/anaconda3/lib/python3.10/site-packages (0.12.1)\r\n",
      "Requirement already satisfied: SpeechRecognition in /Users/do-sunkim/anaconda3/lib/python3.10/site-packages (3.10.4)\r\n",
      "Requirement already satisfied: CFFI>=1.0 in /Users/do-sunkim/anaconda3/lib/python3.10/site-packages (from sounddevice) (1.15.1)\r\n",
      "Requirement already satisfied: requests>=2.26.0 in /Users/do-sunkim/anaconda3/lib/python3.10/site-packages (from SpeechRecognition) (2.32.3)\r\n",
      "Requirement already satisfied: typing-extensions in /Users/do-sunkim/anaconda3/lib/python3.10/site-packages (from SpeechRecognition) (4.7.1)\r\n",
      "Requirement already satisfied: pycparser in /Users/do-sunkim/anaconda3/lib/python3.10/site-packages (from CFFI>=1.0->sounddevice) (2.21)\r\n",
      "Requirement already satisfied: charset-normalizer<4,>=2 in /Users/do-sunkim/anaconda3/lib/python3.10/site-packages (from requests>=2.26.0->SpeechRecognition) (3.2.0)\r\n",
      "Requirement already satisfied: idna<4,>=2.5 in /Users/do-sunkim/anaconda3/lib/python3.10/site-packages (from requests>=2.26.0->SpeechRecognition) (3.4)\r\n",
      "Requirement already satisfied: urllib3<3,>=1.21.1 in /Users/do-sunkim/anaconda3/lib/python3.10/site-packages (from requests>=2.26.0->SpeechRecognition) (1.26.16)\r\n",
      "Requirement already satisfied: certifi>=2017.4.17 in /Users/do-sunkim/anaconda3/lib/python3.10/site-packages (from requests>=2.26.0->SpeechRecognition) (2023.7.22)\r\n"
     ]
    }
   ],
   "source": [
    "!pip install sounddevice soundfile SpeechRecognition"
   ]
  },
  {
   "cell_type": "code",
   "execution_count": 4,
   "metadata": {
    "colab": {
     "base_uri": "https://localhost:8080/"
    },
    "id": "wERR3CjomSaA",
    "outputId": "8bd1eeaf-8277-42a1-ce34-65fa5e985acb"
   },
   "outputs": [
    {
     "name": "stdout",
     "output_type": "stream",
     "text": [
      "Requirement already satisfied: numpy in /Users/do-sunkim/anaconda3/lib/python3.10/site-packages (1.23.5)\r\n"
     ]
    }
   ],
   "source": [
    "!pip install numpy"
   ]
  },
  {
   "cell_type": "code",
   "execution_count": 5,
   "metadata": {
    "colab": {
     "base_uri": "https://localhost:8080/"
    },
    "id": "Pc-US6p7mSaA",
    "outputId": "29852056-33e5-414d-b6ce-028e207d5b0e"
   },
   "outputs": [
    {
     "name": "stdout",
     "output_type": "stream",
     "text": [
      "Requirement already satisfied: sounddevice in /Users/do-sunkim/anaconda3/lib/python3.10/site-packages (0.4.7)\r\n",
      "Requirement already satisfied: numpy in /Users/do-sunkim/anaconda3/lib/python3.10/site-packages (1.23.5)\r\n",
      "Requirement already satisfied: SpeechRecognition in /Users/do-sunkim/anaconda3/lib/python3.10/site-packages (3.10.4)\r\n",
      "Requirement already satisfied: CFFI>=1.0 in /Users/do-sunkim/anaconda3/lib/python3.10/site-packages (from sounddevice) (1.15.1)\r\n",
      "Requirement already satisfied: requests>=2.26.0 in /Users/do-sunkim/anaconda3/lib/python3.10/site-packages (from SpeechRecognition) (2.32.3)\r\n",
      "Requirement already satisfied: typing-extensions in /Users/do-sunkim/anaconda3/lib/python3.10/site-packages (from SpeechRecognition) (4.7.1)\r\n",
      "Requirement already satisfied: pycparser in /Users/do-sunkim/anaconda3/lib/python3.10/site-packages (from CFFI>=1.0->sounddevice) (2.21)\r\n",
      "Requirement already satisfied: charset-normalizer<4,>=2 in /Users/do-sunkim/anaconda3/lib/python3.10/site-packages (from requests>=2.26.0->SpeechRecognition) (3.2.0)\r\n",
      "Requirement already satisfied: idna<4,>=2.5 in /Users/do-sunkim/anaconda3/lib/python3.10/site-packages (from requests>=2.26.0->SpeechRecognition) (3.4)\r\n",
      "Requirement already satisfied: urllib3<3,>=1.21.1 in /Users/do-sunkim/anaconda3/lib/python3.10/site-packages (from requests>=2.26.0->SpeechRecognition) (1.26.16)\r\n",
      "Requirement already satisfied: certifi>=2017.4.17 in /Users/do-sunkim/anaconda3/lib/python3.10/site-packages (from requests>=2.26.0->SpeechRecognition) (2023.7.22)\r\n"
     ]
    }
   ],
   "source": [
    "!pip install sounddevice numpy SpeechRecognition"
   ]
  },
  {
   "cell_type": "code",
   "execution_count": 5,
   "metadata": {
    "colab": {
     "base_uri": "https://localhost:8080/"
    },
    "id": "GJS0qOFsmSaB",
    "outputId": "32ec5a63-e137-4842-8729-5dce59ec0a6c"
   },
   "outputs": [
    {
     "name": "stdout",
     "output_type": "stream",
     "text": [
      "Requirement already satisfied: pip in /Users/do-sunkim/anaconda3/lib/python3.10/site-packages (24.2)\r\n"
     ]
    }
   ],
   "source": [
    "!pip install --upgrade pip"
   ]
  },
  {
   "cell_type": "code",
   "execution_count": 6,
   "metadata": {
    "colab": {
     "base_uri": "https://localhost:8080/"
    },
    "id": "MaAudK2FmSaB",
    "outputId": "8295f198-6a34-4190-e658-21e05bcc1d71"
   },
   "outputs": [
    {
     "name": "stdout",
     "output_type": "stream",
     "text": [
      "Requirement already satisfied: flask in /Users/do-sunkim/anaconda3/lib/python3.10/site-packages (3.0.3)\r\n",
      "Requirement already satisfied: Werkzeug>=3.0.0 in /Users/do-sunkim/anaconda3/lib/python3.10/site-packages (from flask) (3.0.3)\r\n",
      "Requirement already satisfied: Jinja2>=3.1.2 in /Users/do-sunkim/anaconda3/lib/python3.10/site-packages (from flask) (3.1.2)\r\n",
      "Requirement already satisfied: itsdangerous>=2.1.2 in /Users/do-sunkim/anaconda3/lib/python3.10/site-packages (from flask) (2.2.0)\r\n",
      "Requirement already satisfied: click>=8.1.3 in /Users/do-sunkim/anaconda3/lib/python3.10/site-packages (from flask) (8.1.7)\r\n",
      "Requirement already satisfied: blinker>=1.6.2 in /Users/do-sunkim/anaconda3/lib/python3.10/site-packages (from flask) (1.8.2)\r\n",
      "Requirement already satisfied: MarkupSafe>=2.0 in /Users/do-sunkim/anaconda3/lib/python3.10/site-packages (from Jinja2>=3.1.2->flask) (2.1.3)\r\n"
     ]
    }
   ],
   "source": [
    "!pip install flask"
   ]
  },
  {
   "cell_type": "code",
   "execution_count": 7,
   "metadata": {
    "colab": {
     "base_uri": "https://localhost:8080/",
     "height": 411
    },
    "id": "n41eSXnWvEfC",
    "outputId": "c3c61bd5-442a-49b8-a184-77a11dc9b9cc"
   },
   "outputs": [
    {
     "name": "stdout",
     "output_type": "stream",
     "text": [
      "Requirement already satisfied: flask-cors in /Users/do-sunkim/anaconda3/lib/python3.10/site-packages (5.0.0)\n",
      "Requirement already satisfied: Flask>=0.9 in /Users/do-sunkim/anaconda3/lib/python3.10/site-packages (from flask-cors) (3.0.3)\n",
      "Requirement already satisfied: Werkzeug>=3.0.0 in /Users/do-sunkim/anaconda3/lib/python3.10/site-packages (from Flask>=0.9->flask-cors) (3.0.3)\n",
      "Requirement already satisfied: Jinja2>=3.1.2 in /Users/do-sunkim/anaconda3/lib/python3.10/site-packages (from Flask>=0.9->flask-cors) (3.1.2)\n",
      "Requirement already satisfied: itsdangerous>=2.1.2 in /Users/do-sunkim/anaconda3/lib/python3.10/site-packages (from Flask>=0.9->flask-cors) (2.2.0)\n",
      "Requirement already satisfied: click>=8.1.3 in /Users/do-sunkim/anaconda3/lib/python3.10/site-packages (from Flask>=0.9->flask-cors) (8.1.7)\n",
      "Requirement already satisfied: blinker>=1.6.2 in /Users/do-sunkim/anaconda3/lib/python3.10/site-packages (from Flask>=0.9->flask-cors) (1.8.2)\n",
      "Requirement already satisfied: MarkupSafe>=2.0 in /Users/do-sunkim/anaconda3/lib/python3.10/site-packages (from Jinja2>=3.1.2->Flask>=0.9->flask-cors) (2.1.3)\n"
     ]
    }
   ],
   "source": [
    "!pip install --upgrade flask-cors"
   ]
  },
  {
   "cell_type": "code",
   "execution_count": 8,
   "metadata": {
    "colab": {
     "base_uri": "https://localhost:8080/"
    },
    "id": "CA9tKV9zmSaB",
    "outputId": "58bcaaaa-4e25-4bf4-90d4-126e6348259f"
   },
   "outputs": [
    {
     "name": "stdout",
     "output_type": "stream",
     "text": [
      "Requirement already satisfied: requests in /Users/do-sunkim/anaconda3/lib/python3.10/site-packages (2.32.3)\r\n",
      "Requirement already satisfied: beautifulsoup4 in /Users/do-sunkim/anaconda3/lib/python3.10/site-packages (4.12.2)\r\n",
      "Requirement already satisfied: charset-normalizer<4,>=2 in /Users/do-sunkim/anaconda3/lib/python3.10/site-packages (from requests) (3.2.0)\r\n",
      "Requirement already satisfied: idna<4,>=2.5 in /Users/do-sunkim/anaconda3/lib/python3.10/site-packages (from requests) (3.4)\r\n",
      "Requirement already satisfied: urllib3<3,>=1.21.1 in /Users/do-sunkim/anaconda3/lib/python3.10/site-packages (from requests) (1.26.16)\r\n",
      "Requirement already satisfied: certifi>=2017.4.17 in /Users/do-sunkim/anaconda3/lib/python3.10/site-packages (from requests) (2023.7.22)\r\n",
      "Requirement already satisfied: soupsieve>1.2 in /Users/do-sunkim/anaconda3/lib/python3.10/site-packages (from beautifulsoup4) (2.4.1)\r\n"
     ]
    }
   ],
   "source": [
    "!pip install requests beautifulsoup4"
   ]
  },
  {
   "cell_type": "code",
   "execution_count": 9,
   "metadata": {
    "colab": {
     "base_uri": "https://localhost:8080/"
    },
    "id": "qYPi8gQimSaB",
    "outputId": "db33658b-1261-408f-840c-65684b26908e"
   },
   "outputs": [
    {
     "name": "stdout",
     "output_type": "stream",
     "text": [
      "Requirement already satisfied: flask-cors in /Users/do-sunkim/anaconda3/lib/python3.10/site-packages (5.0.0)\r\n",
      "Requirement already satisfied: Flask>=0.9 in /Users/do-sunkim/anaconda3/lib/python3.10/site-packages (from flask-cors) (3.0.3)\r\n",
      "Requirement already satisfied: Werkzeug>=3.0.0 in /Users/do-sunkim/anaconda3/lib/python3.10/site-packages (from Flask>=0.9->flask-cors) (3.0.3)\r\n",
      "Requirement already satisfied: Jinja2>=3.1.2 in /Users/do-sunkim/anaconda3/lib/python3.10/site-packages (from Flask>=0.9->flask-cors) (3.1.2)\r\n",
      "Requirement already satisfied: itsdangerous>=2.1.2 in /Users/do-sunkim/anaconda3/lib/python3.10/site-packages (from Flask>=0.9->flask-cors) (2.2.0)\r\n",
      "Requirement already satisfied: click>=8.1.3 in /Users/do-sunkim/anaconda3/lib/python3.10/site-packages (from Flask>=0.9->flask-cors) (8.1.7)\r\n",
      "Requirement already satisfied: blinker>=1.6.2 in /Users/do-sunkim/anaconda3/lib/python3.10/site-packages (from Flask>=0.9->flask-cors) (1.8.2)\r\n",
      "Requirement already satisfied: MarkupSafe>=2.0 in /Users/do-sunkim/anaconda3/lib/python3.10/site-packages (from Jinja2>=3.1.2->Flask>=0.9->flask-cors) (2.1.3)\r\n"
     ]
    }
   ],
   "source": [
    "!pip install flask-cors"
   ]
  },
  {
   "cell_type": "code",
   "execution_count": 10,
   "metadata": {
    "colab": {
     "base_uri": "https://localhost:8080/"
    },
    "id": "hOlQV3LpvwOP",
    "outputId": "77efef7d-9fa9-4174-f37b-234289878d8f"
   },
   "outputs": [
    {
     "name": "stdout",
     "output_type": "stream",
     "text": [
      "Requirement already satisfied: Flask in /Users/do-sunkim/anaconda3/lib/python3.10/site-packages (3.0.3)\r\n",
      "Requirement already satisfied: flask-cors in /Users/do-sunkim/anaconda3/lib/python3.10/site-packages (5.0.0)\r\n",
      "Requirement already satisfied: SpeechRecognition in /Users/do-sunkim/anaconda3/lib/python3.10/site-packages (3.10.4)\r\n",
      "Requirement already satisfied: Werkzeug>=3.0.0 in /Users/do-sunkim/anaconda3/lib/python3.10/site-packages (from Flask) (3.0.3)\r\n",
      "Requirement already satisfied: Jinja2>=3.1.2 in /Users/do-sunkim/anaconda3/lib/python3.10/site-packages (from Flask) (3.1.2)\r\n",
      "Requirement already satisfied: itsdangerous>=2.1.2 in /Users/do-sunkim/anaconda3/lib/python3.10/site-packages (from Flask) (2.2.0)\r\n",
      "Requirement already satisfied: click>=8.1.3 in /Users/do-sunkim/anaconda3/lib/python3.10/site-packages (from Flask) (8.1.7)\r\n",
      "Requirement already satisfied: blinker>=1.6.2 in /Users/do-sunkim/anaconda3/lib/python3.10/site-packages (from Flask) (1.8.2)\r\n",
      "Requirement already satisfied: requests>=2.26.0 in /Users/do-sunkim/anaconda3/lib/python3.10/site-packages (from SpeechRecognition) (2.32.3)\r\n",
      "Requirement already satisfied: typing-extensions in /Users/do-sunkim/anaconda3/lib/python3.10/site-packages (from SpeechRecognition) (4.7.1)\r\n",
      "Requirement already satisfied: MarkupSafe>=2.0 in /Users/do-sunkim/anaconda3/lib/python3.10/site-packages (from Jinja2>=3.1.2->Flask) (2.1.3)\r\n",
      "Requirement already satisfied: charset-normalizer<4,>=2 in /Users/do-sunkim/anaconda3/lib/python3.10/site-packages (from requests>=2.26.0->SpeechRecognition) (3.2.0)\r\n",
      "Requirement already satisfied: idna<4,>=2.5 in /Users/do-sunkim/anaconda3/lib/python3.10/site-packages (from requests>=2.26.0->SpeechRecognition) (3.4)\r\n",
      "Requirement already satisfied: urllib3<3,>=1.21.1 in /Users/do-sunkim/anaconda3/lib/python3.10/site-packages (from requests>=2.26.0->SpeechRecognition) (1.26.16)\r\n",
      "Requirement already satisfied: certifi>=2017.4.17 in /Users/do-sunkim/anaconda3/lib/python3.10/site-packages (from requests>=2.26.0->SpeechRecognition) (2023.7.22)\r\n"
     ]
    }
   ],
   "source": [
    "!pip install Flask flask-cors SpeechRecognition"
   ]
  },
  {
   "cell_type": "code",
   "execution_count": 11,
   "metadata": {
    "colab": {
     "base_uri": "https://localhost:8080/"
    },
    "id": "RlyZtm48mSaC",
    "outputId": "8f6d6251-62bd-4392-9ee4-c59363af6fd8"
   },
   "outputs": [
    {
     "name": "stdout",
     "output_type": "stream",
     "text": [
      "Requirement already satisfied: gunicorn in /Users/do-sunkim/anaconda3/lib/python3.10/site-packages (22.0.0)\r\n",
      "Requirement already satisfied: packaging in /Users/do-sunkim/anaconda3/lib/python3.10/site-packages (from gunicorn) (20.9)\r\n",
      "Requirement already satisfied: pyparsing>=2.0.2 in /Users/do-sunkim/anaconda3/lib/python3.10/site-packages (from packaging->gunicorn) (3.0.9)\r\n"
     ]
    }
   ],
   "source": [
    "!pip install gunicorn"
   ]
  },
  {
   "cell_type": "code",
   "execution_count": 12,
   "metadata": {
    "colab": {
     "base_uri": "https://localhost:8080/"
    },
    "id": "bf4FQaI-mSaD",
    "outputId": "bab4552a-b591-4a2c-a448-ba083900cb50"
   },
   "outputs": [
    {
     "name": "stdout",
     "output_type": "stream",
     "text": [
      "[2024-09-21 00:29:45 +0900] [66250] [INFO] Starting gunicorn 22.0.0\n",
      "[2024-09-21 00:29:45 +0900] [66250] [INFO] Listening at: http://0.0.0.0:5005 (66250)\n",
      "[2024-09-21 00:29:45 +0900] [66250] [INFO] Using worker: sync\n",
      "[2024-09-21 00:29:45 +0900] [66251] [INFO] Booting worker with pid: 66251\n",
      "[2024-09-21 00:29:45 +0900] [66251] [ERROR] Exception in worker process\n",
      "Traceback (most recent call last):\n",
      "  File \"/Users/do-sunkim/anaconda3/lib/python3.10/site-packages/gunicorn/arbiter.py\", line 609, in spawn_worker\n",
      "    worker.init_process()\n",
      "  File \"/Users/do-sunkim/anaconda3/lib/python3.10/site-packages/gunicorn/workers/base.py\", line 134, in init_process\n",
      "    self.load_wsgi()\n",
      "  File \"/Users/do-sunkim/anaconda3/lib/python3.10/site-packages/gunicorn/workers/base.py\", line 146, in load_wsgi\n",
      "    self.wsgi = self.app.wsgi()\n",
      "  File \"/Users/do-sunkim/anaconda3/lib/python3.10/site-packages/gunicorn/app/base.py\", line 67, in wsgi\n",
      "    self.callable = self.load()\n",
      "  File \"/Users/do-sunkim/anaconda3/lib/python3.10/site-packages/gunicorn/app/wsgiapp.py\", line 58, in load\n",
      "    return self.load_wsgiapp()\n",
      "  File \"/Users/do-sunkim/anaconda3/lib/python3.10/site-packages/gunicorn/app/wsgiapp.py\", line 48, in load_wsgiapp\n",
      "    return util.import_app(self.app_uri)\n",
      "  File \"/Users/do-sunkim/anaconda3/lib/python3.10/site-packages/gunicorn/util.py\", line 371, in import_app\n",
      "    mod = importlib.import_module(module)\n",
      "  File \"/Users/do-sunkim/anaconda3/lib/python3.10/importlib/__init__.py\", line 126, in import_module\n",
      "    return _bootstrap._gcd_import(name[level:], package, level)\n",
      "  File \"<frozen importlib._bootstrap>\", line 1050, in _gcd_import\n",
      "  File \"<frozen importlib._bootstrap>\", line 1027, in _find_and_load\n",
      "  File \"<frozen importlib._bootstrap>\", line 1004, in _find_and_load_unlocked\n",
      "ModuleNotFoundError: No module named 'main'\n",
      "[2024-09-21 00:29:45 +0900] [66251] [INFO] Worker exiting (pid: 66251)\n",
      "[2024-09-21 00:29:45 +0900] [66250] [ERROR] Worker (pid:66251) exited with code 3\n",
      "[2024-09-21 00:29:45 +0900] [66250] [ERROR] Shutting down: Master\n",
      "[2024-09-21 00:29:45 +0900] [66250] [ERROR] Reason: Worker failed to boot.\n"
     ]
    }
   ],
   "source": [
    "!gunicorn --workers 3 --bind 0.0.0.0:5005 main:app"
   ]
  },
  {
   "cell_type": "code",
   "execution_count": 13,
   "metadata": {
    "colab": {
     "base_uri": "https://localhost:8080/"
    },
    "id": "t7UJw-SoqmNv",
    "outputId": "c19ef337-3c7d-42f5-c17d-2de3682506ec"
   },
   "outputs": [
    {
     "name": "stdout",
     "output_type": "stream",
     "text": [
      "Collecting flask-cors==1.10.1\n",
      "  Using cached Flask_Cors-1.10.1-py3-none-any.whl.metadata (7.8 kB)\n",
      "Requirement already satisfied: Flask>=0.9 in /Users/do-sunkim/anaconda3/lib/python3.10/site-packages (from flask-cors==1.10.1) (3.0.3)\n",
      "Requirement already satisfied: Six in /Users/do-sunkim/anaconda3/lib/python3.10/site-packages (from flask-cors==1.10.1) (1.16.0)\n",
      "Requirement already satisfied: Werkzeug>=3.0.0 in /Users/do-sunkim/anaconda3/lib/python3.10/site-packages (from Flask>=0.9->flask-cors==1.10.1) (3.0.3)\n",
      "Requirement already satisfied: Jinja2>=3.1.2 in /Users/do-sunkim/anaconda3/lib/python3.10/site-packages (from Flask>=0.9->flask-cors==1.10.1) (3.1.2)\n",
      "Requirement already satisfied: itsdangerous>=2.1.2 in /Users/do-sunkim/anaconda3/lib/python3.10/site-packages (from Flask>=0.9->flask-cors==1.10.1) (2.2.0)\n",
      "Requirement already satisfied: click>=8.1.3 in /Users/do-sunkim/anaconda3/lib/python3.10/site-packages (from Flask>=0.9->flask-cors==1.10.1) (8.1.7)\n",
      "Requirement already satisfied: blinker>=1.6.2 in /Users/do-sunkim/anaconda3/lib/python3.10/site-packages (from Flask>=0.9->flask-cors==1.10.1) (1.8.2)\n",
      "Requirement already satisfied: MarkupSafe>=2.0 in /Users/do-sunkim/anaconda3/lib/python3.10/site-packages (from Jinja2>=3.1.2->Flask>=0.9->flask-cors==1.10.1) (2.1.3)\n",
      "Using cached Flask_Cors-1.10.1-py3-none-any.whl (13 kB)\n",
      "Installing collected packages: flask-cors\n",
      "  Attempting uninstall: flask-cors\n",
      "    Found existing installation: Flask-Cors 5.0.0\n",
      "    Uninstalling Flask-Cors-5.0.0:\n",
      "      Successfully uninstalled Flask-Cors-5.0.0\n",
      "Successfully installed flask-cors-1.10.1\n"
     ]
    }
   ],
   "source": [
    "!pip install flask-cors==1.10.1"
   ]
  },
  {
   "cell_type": "code",
   "execution_count": 14,
   "metadata": {
    "colab": {
     "base_uri": "https://localhost:8080/"
    },
    "id": "YdIW_SMCrn8m",
    "outputId": "3a56f826-a79b-418f-8b3a-82e757faa72f"
   },
   "outputs": [
    {
     "name": "stdout",
     "output_type": "stream",
     "text": [
      "Requirement already satisfied: SpeechRecognition in /Users/do-sunkim/anaconda3/lib/python3.10/site-packages (3.10.4)\r\n",
      "Requirement already satisfied: requests>=2.26.0 in /Users/do-sunkim/anaconda3/lib/python3.10/site-packages (from SpeechRecognition) (2.32.3)\r\n",
      "Requirement already satisfied: typing-extensions in /Users/do-sunkim/anaconda3/lib/python3.10/site-packages (from SpeechRecognition) (4.7.1)\r\n",
      "Requirement already satisfied: charset-normalizer<4,>=2 in /Users/do-sunkim/anaconda3/lib/python3.10/site-packages (from requests>=2.26.0->SpeechRecognition) (3.2.0)\r\n",
      "Requirement already satisfied: idna<4,>=2.5 in /Users/do-sunkim/anaconda3/lib/python3.10/site-packages (from requests>=2.26.0->SpeechRecognition) (3.4)\r\n",
      "Requirement already satisfied: urllib3<3,>=1.21.1 in /Users/do-sunkim/anaconda3/lib/python3.10/site-packages (from requests>=2.26.0->SpeechRecognition) (1.26.16)\r\n",
      "Requirement already satisfied: certifi>=2017.4.17 in /Users/do-sunkim/anaconda3/lib/python3.10/site-packages (from requests>=2.26.0->SpeechRecognition) (2023.7.22)\r\n"
     ]
    }
   ],
   "source": [
    "!pip install SpeechRecognition"
   ]
  },
  {
   "cell_type": "code",
   "execution_count": 15,
   "metadata": {
    "colab": {
     "base_uri": "https://localhost:8080/"
    },
    "id": "G4a2XNcruOWT",
    "outputId": "1d693a62-4202-4f3e-c43f-b84a26831527"
   },
   "outputs": [
    {
     "name": "stdout",
     "output_type": "stream",
     "text": [
      "Requirement already satisfied: python-dotenv in /Users/do-sunkim/anaconda3/lib/python3.10/site-packages (1.0.0)\r\n"
     ]
    }
   ],
   "source": [
    "!pip install python-dotenv"
   ]
  },
  {
   "cell_type": "code",
   "execution_count": 16,
   "metadata": {
    "scrolled": true
   },
   "outputs": [
    {
     "name": "stdout",
     "output_type": "stream",
     "text": [
      "Requirement already satisfied: Flask in /Users/do-sunkim/anaconda3/lib/python3.10/site-packages (3.0.3)\r\n",
      "Requirement already satisfied: flask-cors in /Users/do-sunkim/anaconda3/lib/python3.10/site-packages (1.10.1)\r\n",
      "Requirement already satisfied: flask-ngrok in /Users/do-sunkim/anaconda3/lib/python3.10/site-packages (0.0.25)\r\n",
      "Requirement already satisfied: Werkzeug>=3.0.0 in /Users/do-sunkim/anaconda3/lib/python3.10/site-packages (from Flask) (3.0.3)\r\n",
      "Requirement already satisfied: Jinja2>=3.1.2 in /Users/do-sunkim/anaconda3/lib/python3.10/site-packages (from Flask) (3.1.2)\r\n",
      "Requirement already satisfied: itsdangerous>=2.1.2 in /Users/do-sunkim/anaconda3/lib/python3.10/site-packages (from Flask) (2.2.0)\r\n",
      "Requirement already satisfied: click>=8.1.3 in /Users/do-sunkim/anaconda3/lib/python3.10/site-packages (from Flask) (8.1.7)\r\n",
      "Requirement already satisfied: blinker>=1.6.2 in /Users/do-sunkim/anaconda3/lib/python3.10/site-packages (from Flask) (1.8.2)\r\n",
      "Requirement already satisfied: Six in /Users/do-sunkim/anaconda3/lib/python3.10/site-packages (from flask-cors) (1.16.0)\r\n",
      "Requirement already satisfied: requests in /Users/do-sunkim/anaconda3/lib/python3.10/site-packages (from flask-ngrok) (2.32.3)\r\n",
      "Requirement already satisfied: MarkupSafe>=2.0 in /Users/do-sunkim/anaconda3/lib/python3.10/site-packages (from Jinja2>=3.1.2->Flask) (2.1.3)\r\n",
      "Requirement already satisfied: charset-normalizer<4,>=2 in /Users/do-sunkim/anaconda3/lib/python3.10/site-packages (from requests->flask-ngrok) (3.2.0)\r\n",
      "Requirement already satisfied: idna<4,>=2.5 in /Users/do-sunkim/anaconda3/lib/python3.10/site-packages (from requests->flask-ngrok) (3.4)\r\n",
      "Requirement already satisfied: urllib3<3,>=1.21.1 in /Users/do-sunkim/anaconda3/lib/python3.10/site-packages (from requests->flask-ngrok) (1.26.16)\r\n",
      "Requirement already satisfied: certifi>=2017.4.17 in /Users/do-sunkim/anaconda3/lib/python3.10/site-packages (from requests->flask-ngrok) (2023.7.22)\r\n"
     ]
    }
   ],
   "source": [
    "!pip install Flask flask-cors flask-ngrok"
   ]
  },
  {
   "cell_type": "code",
   "execution_count": null,
   "metadata": {},
   "outputs": [],
   "source": []
  },
  {
   "cell_type": "code",
   "execution_count": null,
   "metadata": {
    "colab": {
     "base_uri": "https://localhost:8080/"
    },
    "id": "3VA_Ry8GmSaD",
    "outputId": "66d5ff4b-d38e-4281-d72a-bd44daa559e1"
   },
   "outputs": [
    {
     "name": "stdout",
     "output_type": "stream",
     "text": [
      " * Serving Flask app '__main__'\n",
      " * Debug mode: off\n"
     ]
    },
    {
     "name": "stderr",
     "output_type": "stream",
     "text": [
      "INFO:werkzeug:\u001b[31m\u001b[1mWARNING: This is a development server. Do not use it in a production deployment. Use a production WSGI server instead.\u001b[0m\n",
      " * Running on http://127.0.0.1:5000\n",
      "INFO:werkzeug:\u001b[33mPress CTRL+C to quit\u001b[0m\n",
      "Exception in thread Thread-5:\n",
      "Traceback (most recent call last):\n",
      "  File \"/Users/do-sunkim/anaconda3/lib/python3.10/threading.py\", line 1016, in _bootstrap_inner\n",
      "    self.run()\n",
      "  File \"/Users/do-sunkim/anaconda3/lib/python3.10/threading.py\", line 1378, in run\n",
      "    self.function(*self.args, **self.kwargs)\n",
      "  File \"/Users/do-sunkim/anaconda3/lib/python3.10/site-packages/flask_ngrok.py\", line 70, in start_ngrok\n",
      "    ngrok_address = _run_ngrok()\n",
      "  File \"/Users/do-sunkim/anaconda3/lib/python3.10/site-packages/flask_ngrok.py\", line 31, in _run_ngrok\n",
      "    ngrok = subprocess.Popen([executable, 'http', '5000'])\n",
      "  File \"/Users/do-sunkim/anaconda3/lib/python3.10/subprocess.py\", line 971, in __init__\n",
      "    self._execute_child(args, executable, preexec_fn, close_fds,\n",
      "  File \"/Users/do-sunkim/anaconda3/lib/python3.10/subprocess.py\", line 1863, in _execute_child\n",
      "    raise child_exception_type(errno_num, err_msg, err_filename)\n",
      "PermissionError: [Errno 13] Permission denied: '/var/folders/z2/f95wg20108v03s4w6hpc6nbh0000gn/T/ngrok/ngrok'\n",
      "INFO:werkzeug:127.0.0.1 - - [21/Sep/2024 00:30:08] \"GET / HTTP/1.1\" 200 -\n",
      "INFO:werkzeug:127.0.0.1 - - [21/Sep/2024 00:30:08] \"\u001b[36mGET /static/style.css HTTP/1.1\u001b[0m\" 304 -\n",
      "INFO:werkzeug:127.0.0.1 - - [21/Sep/2024 00:30:08] \"\u001b[36mGET /static/jquery.min.js HTTP/1.1\u001b[0m\" 304 -\n",
      "INFO:werkzeug:127.0.0.1 - - [21/Sep/2024 00:30:08] \"GET /static/images/bot.jpg HTTP/1.1\" 200 -\n",
      "INFO:werkzeug:127.0.0.1 - - [21/Sep/2024 00:30:08] \"GET /static/images/bot.gif HTTP/1.1\" 200 -\n",
      "INFO:werkzeug:127.0.0.1 - - [21/Sep/2024 00:30:08] \"\u001b[36mGET /static/chatbot.js HTTP/1.1\u001b[0m\" 304 -\n"
     ]
    }
   ],
   "source": [
    "from flask import Flask, render_template, request, jsonify\n",
    "from flask_cors import CORS\n",
    "from flask_ngrok import run_with_ngrok\n",
    "import sounddevice as sd\n",
    "import numpy as np\n",
    "import speech_recognition as sr\n",
    "import io\n",
    "import wave\n",
    "import logging\n",
    "from dotenv import load_dotenv\n",
    "import os\n",
    "import requests\n",
    "from bs4 import BeautifulSoup\n",
    "\n",
    "\n",
    "app = Flask(__name__)\n",
    "run_with_ngrok(app)  \n",
    "\n",
    "# 로깅 설정\n",
    "logging.basicConfig(level=logging.DEBUG)\n",
    "\n",
    "# .env 파일에서 환경 변수 로드\n",
    "load_dotenv()\n",
    "\n",
    "# 음성 녹음 함수\n",
    "def record_audio(duration=5, samplerate=16000):  # 샘플링 속도 16000Hz로 변경\n",
    "    logging.info(f\"{duration}초 동안 녹음을 시작합니다...\")\n",
    "    try:\n",
    "        recording = sd.rec(int(duration * samplerate), samplerate=samplerate, channels=1, dtype='int16')\n",
    "        sd.wait()\n",
    "        with io.BytesIO() as wav_buffer:\n",
    "            with wave.open(wav_buffer, 'wb') as wav_file:\n",
    "                wav_file.setnchannels(1)\n",
    "                wav_file.setsampwidth(2)\n",
    "                wav_file.setframerate(samplerate)\n",
    "                wav_file.writeframes(recording.tobytes())\n",
    "            wav_buffer.seek(0)\n",
    "            logging.info(\"녹음이 완료되었습니다!\")\n",
    "            return wav_buffer.read()\n",
    "    except Exception as e:\n",
    "        logging.error(f\"녹음 중 에러 발생: {e}\")\n",
    "        return None\n",
    "\n",
    "# 음성을 텍스트로 변환하는 함수\n",
    "def transcribe_audio(audio_data):\n",
    "    recognizer = sr.Recognizer()\n",
    "    try:\n",
    "        audio = sr.AudioData(audio_data, 16000, 2)  # 샘플링 속도 16000Hz로 변경\n",
    "        text = recognizer.recognize_google(audio, language='ko-KR')\n",
    "        logging.info(f\"인식된 텍스트: {text}\")\n",
    "        return text\n",
    "    except sr.UnknownValueError:\n",
    "        logging.error(\"음성을 인식할 수 없습니다.\")\n",
    "        return None\n",
    "    except sr.RequestError as e:\n",
    "        logging.error(f\"Google Speech Recognition 서비스 에러: {e}\")\n",
    "        return None\n",
    "    except Exception as e:\n",
    "        logging.error(f\"알 수 없는 오류 발생: {e}\")\n",
    "        return None\n",
    "\n",
    "# 네이버 뉴스 제목 가져오는 함수\n",
    "def get_news_titles(query, num_results=5):\n",
    "    url = f\"https://search.naver.com/search.naver?where=news&query={requests.utils.quote(query)}\"  # 쿼리 인코딩\n",
    "    headers = {\n",
    "        'User-Agent': 'Mozilla/5.0 (Windows NT 10.0; Win64; x64) AppleWebKit/537.36 (KHTML, like Gecko) Chrome/91.0.4472.124 Safari/537.36'\n",
    "    }\n",
    "\n",
    "    try:\n",
    "        response = requests.get(url, headers=headers)\n",
    "        response.raise_for_status()\n",
    "        soup = BeautifulSoup(response.text, 'html.parser')\n",
    "\n",
    "        titles_and_links = []\n",
    "        for a_tag in soup.find_all('a', class_='news_tit', limit=num_results):\n",
    "            title = a_tag.get_text()\n",
    "            link = a_tag['href']\n",
    "            titles_and_links.append({'title': title, 'link': link})\n",
    "\n",
    "        return titles_and_links\n",
    "    except requests.RequestException as e:\n",
    "        logging.error(f\"뉴스 제목 가져오기 중 에러 발생: {e}\")\n",
    "        return []\n",
    "\n",
    "# 기존 라우트\n",
    "@app.route('/')\n",
    "def home():\n",
    "    return render_template('index.html')\n",
    "\n",
    "@app.route('/data', methods=['GET'])\n",
    "def get_data():\n",
    "    return jsonify({'message': 'Data endpoint'})\n",
    "\n",
    "@app.route('/new', methods=['GET'])\n",
    "def new_feature():\n",
    "    return jsonify({'message': 'This is a new feature'})\n",
    "\n",
    "@app.route('/speech-to-text', methods=['POST'])\n",
    "def speech_to_text():\n",
    "    try:\n",
    "        audio_data = record_audio(duration=3)  # 3초 동안 녹음\n",
    "        if audio_data is None:\n",
    "            logging.error(\"녹음에 실패했습니다.\")\n",
    "            return jsonify({'message': \"녹음에 실패했습니다. 서버 로그를 확인하십시오.\"}), 400\n",
    "\n",
    "        text = transcribe_audio(audio_data)\n",
    "        if text:\n",
    "            titles = get_news_titles(text, num_results=10)\n",
    "            response = {\n",
    "                'text': text,\n",
    "                'titles': titles\n",
    "            }\n",
    "            return jsonify(response), 200\n",
    "        else:\n",
    "            logging.error(\"음성 인식에 실패했습니다.\")\n",
    "            return jsonify({'message': \"음성 인식에 실패했습니다. 서버 로그를 확인하십시오.\"}), 500\n",
    "    except Exception as e:\n",
    "        logging.exception(\"서버 오류 발생\")\n",
    "        return jsonify({'message': \"서버 오류가 발생했습니다. 서버 로그를 확인하십시오.\"}), 500\n",
    "\n",
    "# if __name__ == '__main__':\n",
    "#     app.run(host='localhost', port=5005, debug=False)\n",
    "\n",
    "\n",
    "if __name__ == '__main__':\n",
    "    app.run()\n"
   ]
  },
  {
   "cell_type": "code",
   "execution_count": null,
   "metadata": {
    "id": "JHcR5kRZsGx-"
   },
   "outputs": [],
   "source": []
  },
  {
   "cell_type": "markdown",
   "metadata": {},
   "source": []
  }
 ],
 "metadata": {
  "colab": {
   "provenance": [],
   "toc_visible": true
  },
  "kernelspec": {
   "display_name": "Python 3 (ipykernel)",
   "language": "python",
   "name": "python3"
  },
  "language_info": {
   "codemirror_mode": {
    "name": "ipython",
    "version": 3
   },
   "file_extension": ".py",
   "mimetype": "text/x-python",
   "name": "python",
   "nbconvert_exporter": "python",
   "pygments_lexer": "ipython3",
   "version": "3.10.11"
  }
 },
 "nbformat": 4,
 "nbformat_minor": 1
}
