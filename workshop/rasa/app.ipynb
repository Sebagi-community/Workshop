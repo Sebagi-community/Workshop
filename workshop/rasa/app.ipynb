{
 "cells": [
  {
   "cell_type": "code",
   "execution_count": 1,
   "metadata": {},
   "outputs": [
    {
     "name": "stdout",
     "output_type": "stream",
     "text": [
      "Requirement already satisfied: sounddevice in /Users/do-sunkim/anaconda3/lib/python3.10/site-packages (0.4.7)\n",
      "Requirement already satisfied: numpy in /Users/do-sunkim/anaconda3/lib/python3.10/site-packages (1.25.2)\n",
      "Requirement already satisfied: SpeechRecognition in /Users/do-sunkim/anaconda3/lib/python3.10/site-packages (3.10.4)\n",
      "Requirement already satisfied: beautifulsoup4 in /Users/do-sunkim/anaconda3/lib/python3.10/site-packages (4.12.2)\n",
      "Requirement already satisfied: CFFI>=1.0 in /Users/do-sunkim/anaconda3/lib/python3.10/site-packages (from sounddevice) (1.15.1)\n",
      "Requirement already satisfied: requests>=2.26.0 in /Users/do-sunkim/anaconda3/lib/python3.10/site-packages (from SpeechRecognition) (2.32.3)\n",
      "Requirement already satisfied: typing-extensions in /Users/do-sunkim/anaconda3/lib/python3.10/site-packages (from SpeechRecognition) (4.7.1)\n",
      "Requirement already satisfied: soupsieve>1.2 in /Users/do-sunkim/anaconda3/lib/python3.10/site-packages (from beautifulsoup4) (2.4.1)\n",
      "Requirement already satisfied: pycparser in /Users/do-sunkim/anaconda3/lib/python3.10/site-packages (from CFFI>=1.0->sounddevice) (2.21)\n",
      "Requirement already satisfied: charset-normalizer<4,>=2 in /Users/do-sunkim/anaconda3/lib/python3.10/site-packages (from requests>=2.26.0->SpeechRecognition) (3.2.0)\n",
      "Requirement already satisfied: idna<4,>=2.5 in /Users/do-sunkim/anaconda3/lib/python3.10/site-packages (from requests>=2.26.0->SpeechRecognition) (3.4)\n",
      "Requirement already satisfied: urllib3<3,>=1.21.1 in /Users/do-sunkim/anaconda3/lib/python3.10/site-packages (from requests>=2.26.0->SpeechRecognition) (1.26.16)\n",
      "Requirement already satisfied: certifi>=2017.4.17 in /Users/do-sunkim/anaconda3/lib/python3.10/site-packages (from requests>=2.26.0->SpeechRecognition) (2023.7.22)\n",
      "Note: you may need to restart the kernel to use updated packages.\n"
     ]
    }
   ],
   "source": [
    "pip install sounddevice numpy SpeechRecognition beautifulsoup4"
   ]
  },
  {
   "cell_type": "code",
   "execution_count": 2,
   "metadata": {},
   "outputs": [
    {
     "name": "stdout",
     "output_type": "stream",
     "text": [
      "Requirement already satisfied: sounddevice in /Users/do-sunkim/anaconda3/lib/python3.10/site-packages (0.4.7)\n",
      "Requirement already satisfied: soundfile in /Users/do-sunkim/anaconda3/lib/python3.10/site-packages (0.12.1)\n",
      "Requirement already satisfied: SpeechRecognition in /Users/do-sunkim/anaconda3/lib/python3.10/site-packages (3.10.4)\n",
      "Requirement already satisfied: CFFI>=1.0 in /Users/do-sunkim/anaconda3/lib/python3.10/site-packages (from sounddevice) (1.15.1)\n",
      "Requirement already satisfied: requests>=2.26.0 in /Users/do-sunkim/anaconda3/lib/python3.10/site-packages (from SpeechRecognition) (2.32.3)\n",
      "Requirement already satisfied: typing-extensions in /Users/do-sunkim/anaconda3/lib/python3.10/site-packages (from SpeechRecognition) (4.7.1)\n",
      "Requirement already satisfied: pycparser in /Users/do-sunkim/anaconda3/lib/python3.10/site-packages (from CFFI>=1.0->sounddevice) (2.21)\n",
      "Requirement already satisfied: charset-normalizer<4,>=2 in /Users/do-sunkim/anaconda3/lib/python3.10/site-packages (from requests>=2.26.0->SpeechRecognition) (3.2.0)\n",
      "Requirement already satisfied: idna<4,>=2.5 in /Users/do-sunkim/anaconda3/lib/python3.10/site-packages (from requests>=2.26.0->SpeechRecognition) (3.4)\n",
      "Requirement already satisfied: urllib3<3,>=1.21.1 in /Users/do-sunkim/anaconda3/lib/python3.10/site-packages (from requests>=2.26.0->SpeechRecognition) (1.26.16)\n",
      "Requirement already satisfied: certifi>=2017.4.17 in /Users/do-sunkim/anaconda3/lib/python3.10/site-packages (from requests>=2.26.0->SpeechRecognition) (2023.7.22)\n",
      "Note: you may need to restart the kernel to use updated packages.\n"
     ]
    }
   ],
   "source": [
    "pip install sounddevice soundfile SpeechRecognition"
   ]
  },
  {
   "cell_type": "code",
   "execution_count": 3,
   "metadata": {},
   "outputs": [
    {
     "name": "stdout",
     "output_type": "stream",
     "text": [
      "Requirement already satisfied: numpy in /Users/do-sunkim/anaconda3/lib/python3.10/site-packages (1.25.2)\n",
      "Note: you may need to restart the kernel to use updated packages.\n"
     ]
    }
   ],
   "source": [
    "pip install numpy"
   ]
  },
  {
   "cell_type": "code",
   "execution_count": 4,
   "metadata": {},
   "outputs": [
    {
     "name": "stdout",
     "output_type": "stream",
     "text": [
      "Requirement already satisfied: sounddevice in /Users/do-sunkim/anaconda3/lib/python3.10/site-packages (0.4.7)\n",
      "Requirement already satisfied: numpy in /Users/do-sunkim/anaconda3/lib/python3.10/site-packages (1.25.2)\n",
      "Requirement already satisfied: SpeechRecognition in /Users/do-sunkim/anaconda3/lib/python3.10/site-packages (3.10.4)\n",
      "Requirement already satisfied: CFFI>=1.0 in /Users/do-sunkim/anaconda3/lib/python3.10/site-packages (from sounddevice) (1.15.1)\n",
      "Requirement already satisfied: requests>=2.26.0 in /Users/do-sunkim/anaconda3/lib/python3.10/site-packages (from SpeechRecognition) (2.32.3)\n",
      "Requirement already satisfied: typing-extensions in /Users/do-sunkim/anaconda3/lib/python3.10/site-packages (from SpeechRecognition) (4.7.1)\n",
      "Requirement already satisfied: pycparser in /Users/do-sunkim/anaconda3/lib/python3.10/site-packages (from CFFI>=1.0->sounddevice) (2.21)\n",
      "Requirement already satisfied: charset-normalizer<4,>=2 in /Users/do-sunkim/anaconda3/lib/python3.10/site-packages (from requests>=2.26.0->SpeechRecognition) (3.2.0)\n",
      "Requirement already satisfied: idna<4,>=2.5 in /Users/do-sunkim/anaconda3/lib/python3.10/site-packages (from requests>=2.26.0->SpeechRecognition) (3.4)\n",
      "Requirement already satisfied: urllib3<3,>=1.21.1 in /Users/do-sunkim/anaconda3/lib/python3.10/site-packages (from requests>=2.26.0->SpeechRecognition) (1.26.16)\n",
      "Requirement already satisfied: certifi>=2017.4.17 in /Users/do-sunkim/anaconda3/lib/python3.10/site-packages (from requests>=2.26.0->SpeechRecognition) (2023.7.22)\n",
      "Note: you may need to restart the kernel to use updated packages.\n"
     ]
    }
   ],
   "source": [
    "pip install sounddevice numpy SpeechRecognition"
   ]
  },
  {
   "cell_type": "code",
   "execution_count": 5,
   "metadata": {},
   "outputs": [
    {
     "name": "stdout",
     "output_type": "stream",
     "text": [
      "Requirement already satisfied: pip in /Users/do-sunkim/anaconda3/lib/python3.10/site-packages (24.2)\n",
      "Note: you may need to restart the kernel to use updated packages.\n"
     ]
    }
   ],
   "source": [
    "pip install --upgrade pip"
   ]
  },
  {
   "cell_type": "code",
   "execution_count": 6,
   "metadata": {},
   "outputs": [
    {
     "name": "stdout",
     "output_type": "stream",
     "text": [
      "Requirement already satisfied: flask in /Users/do-sunkim/anaconda3/lib/python3.10/site-packages (3.0.3)\n",
      "Requirement already satisfied: Werkzeug>=3.0.0 in /Users/do-sunkim/anaconda3/lib/python3.10/site-packages (from flask) (3.0.3)\n",
      "Requirement already satisfied: Jinja2>=3.1.2 in /Users/do-sunkim/anaconda3/lib/python3.10/site-packages (from flask) (3.1.2)\n",
      "Requirement already satisfied: itsdangerous>=2.1.2 in /Users/do-sunkim/anaconda3/lib/python3.10/site-packages (from flask) (2.2.0)\n",
      "Requirement already satisfied: click>=8.1.3 in /Users/do-sunkim/anaconda3/lib/python3.10/site-packages (from flask) (8.1.7)\n",
      "Requirement already satisfied: blinker>=1.6.2 in /Users/do-sunkim/anaconda3/lib/python3.10/site-packages (from flask) (1.8.2)\n",
      "Requirement already satisfied: MarkupSafe>=2.0 in /Users/do-sunkim/anaconda3/lib/python3.10/site-packages (from Jinja2>=3.1.2->flask) (2.1.3)\n",
      "Note: you may need to restart the kernel to use updated packages.\n"
     ]
    }
   ],
   "source": [
    "pip install flask"
   ]
  },
  {
   "cell_type": "code",
   "execution_count": 7,
   "metadata": {},
   "outputs": [
    {
     "name": "stdout",
     "output_type": "stream",
     "text": [
      "Requirement already satisfied: requests in /Users/do-sunkim/anaconda3/lib/python3.10/site-packages (2.32.3)\n",
      "Requirement already satisfied: beautifulsoup4 in /Users/do-sunkim/anaconda3/lib/python3.10/site-packages (4.12.2)\n",
      "Requirement already satisfied: charset-normalizer<4,>=2 in /Users/do-sunkim/anaconda3/lib/python3.10/site-packages (from requests) (3.2.0)\n",
      "Requirement already satisfied: idna<4,>=2.5 in /Users/do-sunkim/anaconda3/lib/python3.10/site-packages (from requests) (3.4)\n",
      "Requirement already satisfied: urllib3<3,>=1.21.1 in /Users/do-sunkim/anaconda3/lib/python3.10/site-packages (from requests) (1.26.16)\n",
      "Requirement already satisfied: certifi>=2017.4.17 in /Users/do-sunkim/anaconda3/lib/python3.10/site-packages (from requests) (2023.7.22)\n",
      "Requirement already satisfied: soupsieve>1.2 in /Users/do-sunkim/anaconda3/lib/python3.10/site-packages (from beautifulsoup4) (2.4.1)\n",
      "Note: you may need to restart the kernel to use updated packages.\n"
     ]
    }
   ],
   "source": [
    "pip install requests beautifulsoup4"
   ]
  },
  {
   "cell_type": "code",
   "execution_count": 8,
   "metadata": {},
   "outputs": [
    {
     "name": "stdout",
     "output_type": "stream",
     "text": [
      "Requirement already satisfied: flask-cors in /Users/do-sunkim/anaconda3/lib/python3.10/site-packages (4.0.1)\n",
      "Requirement already satisfied: Flask>=0.9 in /Users/do-sunkim/anaconda3/lib/python3.10/site-packages (from flask-cors) (3.0.3)\n",
      "Requirement already satisfied: Werkzeug>=3.0.0 in /Users/do-sunkim/anaconda3/lib/python3.10/site-packages (from Flask>=0.9->flask-cors) (3.0.3)\n",
      "Requirement already satisfied: Jinja2>=3.1.2 in /Users/do-sunkim/anaconda3/lib/python3.10/site-packages (from Flask>=0.9->flask-cors) (3.1.2)\n",
      "Requirement already satisfied: itsdangerous>=2.1.2 in /Users/do-sunkim/anaconda3/lib/python3.10/site-packages (from Flask>=0.9->flask-cors) (2.2.0)\n",
      "Requirement already satisfied: click>=8.1.3 in /Users/do-sunkim/anaconda3/lib/python3.10/site-packages (from Flask>=0.9->flask-cors) (8.1.7)\n",
      "Requirement already satisfied: blinker>=1.6.2 in /Users/do-sunkim/anaconda3/lib/python3.10/site-packages (from Flask>=0.9->flask-cors) (1.8.2)\n",
      "Requirement already satisfied: MarkupSafe>=2.0 in /Users/do-sunkim/anaconda3/lib/python3.10/site-packages (from Jinja2>=3.1.2->Flask>=0.9->flask-cors) (2.1.3)\n",
      "Note: you may need to restart the kernel to use updated packages.\n"
     ]
    }
   ],
   "source": [
    "pip install flask-cors"
   ]
  },
  {
   "cell_type": "code",
   "execution_count": null,
   "metadata": {},
   "outputs": [],
   "source": []
  },
  {
   "cell_type": "code",
   "execution_count": null,
   "metadata": {},
   "outputs": [
    {
     "name": "stdout",
     "output_type": "stream",
     "text": [
      " * Serving Flask app '__main__'\n",
      " * Debug mode: off\n"
     ]
    },
    {
     "name": "stderr",
     "output_type": "stream",
     "text": [
      "INFO:werkzeug:\u001b[31m\u001b[1mWARNING: This is a development server. Do not use it in a production deployment. Use a production WSGI server instead.\u001b[0m\n",
      " * Running on http://localhost:5005\n",
      "INFO:werkzeug:\u001b[33mPress CTRL+C to quit\u001b[0m\n"
     ]
    }
   ],
   "source": [
    "from flask import Flask, render_template, request, jsonify\n",
    "from flask_cors import CORS\n",
    "import sounddevice as sd\n",
    "import numpy as np\n",
    "import speech_recognition as sr\n",
    "import io\n",
    "import wave\n",
    "import logging\n",
    "from dotenv import load_dotenv\n",
    "import os\n",
    "import requests\n",
    "from bs4 import BeautifulSoup\n",
    "\n",
    "app = Flask(__name__)\n",
    "CORS(app)\n",
    "\n",
    "# 로깅 설정\n",
    "logging.basicConfig(level=logging.DEBUG)\n",
    "\n",
    "# .env 파일에서 환경 변수 로드\n",
    "load_dotenv()\n",
    "\n",
    "# 음성 녹음 함수\n",
    "def record_audio(duration=5, samplerate=16000):  # 샘플링 속도 16000Hz로 변경\n",
    "    logging.info(f\"{duration}초 동안 녹음을 시작합니다...\")\n",
    "    try:\n",
    "        recording = sd.rec(int(duration * samplerate), samplerate=samplerate, channels=1, dtype='int16')\n",
    "        sd.wait()\n",
    "        with io.BytesIO() as wav_buffer:\n",
    "            with wave.open(wav_buffer, 'wb') as wav_file:\n",
    "                wav_file.setnchannels(1)\n",
    "                wav_file.setsampwidth(2)\n",
    "                wav_file.setframerate(samplerate)\n",
    "                wav_file.writeframes(recording.tobytes())\n",
    "            wav_buffer.seek(0)\n",
    "            logging.info(\"녹음이 완료되었습니다!\")\n",
    "            return wav_buffer.read()\n",
    "    except Exception as e:\n",
    "        logging.error(f\"녹음 중 에러 발생: {e}\")\n",
    "        return None\n",
    "\n",
    "# 음성을 텍스트로 변환하는 함수\n",
    "def transcribe_audio(audio_data):\n",
    "    recognizer = sr.Recognizer()\n",
    "    try:\n",
    "        audio = sr.AudioData(audio_data, 16000, 2)  # 샘플링 속도 16000Hz로 변경\n",
    "        text = recognizer.recognize_google(audio, language='ko-KR')\n",
    "        logging.info(f\"인식된 텍스트: {text}\")\n",
    "        return text\n",
    "    except sr.UnknownValueError:\n",
    "        logging.error(\"음성을 인식할 수 없습니다.\")\n",
    "        return None\n",
    "    except sr.RequestError as e:\n",
    "        logging.error(f\"Google Speech Recognition 서비스 에러: {e}\")\n",
    "        return None\n",
    "    except Exception as e:\n",
    "        logging.error(f\"알 수 없는 오류 발생: {e}\")\n",
    "        return None\n",
    "\n",
    "# 네이버 뉴스 제목 가져오는 함수\n",
    "def get_news_titles(query, num_results=5):\n",
    "    url = f\"https://search.naver.com/search.naver?where=news&query={requests.utils.quote(query)}\"  # 쿼리 인코딩\n",
    "    headers = {\n",
    "        'User-Agent': 'Mozilla/5.0 (Windows NT 10.0; Win64; x64) AppleWebKit/537.36 (KHTML, like Gecko) Chrome/91.0.4472.124 Safari/537.36'\n",
    "    }\n",
    "    \n",
    "    try:\n",
    "        response = requests.get(url, headers=headers)\n",
    "        response.raise_for_status()\n",
    "        soup = BeautifulSoup(response.text, 'html.parser')\n",
    "        \n",
    "        titles_and_links = []\n",
    "        for a_tag in soup.find_all('a', class_='news_tit', limit=num_results):\n",
    "            title = a_tag.get_text()\n",
    "            link = a_tag['href']\n",
    "            titles_and_links.append({'title': title, 'link': link})\n",
    "        \n",
    "        return titles_and_links\n",
    "    except requests.RequestException as e:\n",
    "        logging.error(f\"뉴스 제목 가져오기 중 에러 발생: {e}\")\n",
    "        return []\n",
    "\n",
    "# 기존 라우트\n",
    "@app.route('/')\n",
    "def home():\n",
    "    return render_template('index.html')\n",
    "\n",
    "@app.route('/data', methods=['GET'])\n",
    "def get_data():\n",
    "    return jsonify({'message': 'Data endpoint'})\n",
    "\n",
    "@app.route('/new', methods=['GET'])\n",
    "def new_feature():\n",
    "    return jsonify({'message': 'This is a new feature'})\n",
    "\n",
    "@app.route('/speech-to-text', methods=['POST'])\n",
    "def speech_to_text():\n",
    "    try:\n",
    "        audio_data = record_audio(duration=3)  # 3초 동안 녹음\n",
    "        if audio_data is None:\n",
    "            logging.error(\"녹음에 실패했습니다.\")\n",
    "            return jsonify({'message': \"녹음에 실패했습니다. 서버 로그를 확인하십시오.\"}), 400\n",
    "\n",
    "        text = transcribe_audio(audio_data)\n",
    "        if text:\n",
    "            titles = get_news_titles(text, num_results=10)\n",
    "            response = {\n",
    "                'text': text,\n",
    "                'titles': titles\n",
    "            }\n",
    "            return jsonify(response), 200\n",
    "        else:\n",
    "            logging.error(\"음성 인식에 실패했습니다.\")\n",
    "            return jsonify({'message': \"음성 인식에 실패했습니다. 서버 로그를 확인하십시오.\"}), 500\n",
    "    except Exception as e:\n",
    "        logging.exception(\"서버 오류 발생\")\n",
    "        return jsonify({'message': \"서버 오류가 발생했습니다. 서버 로그를 확인하십시오.\"}), 500\n",
    "    \n",
    "if __name__ == '__main__':\n",
    "    app.run(host='localhost', port=5005, debug=False)\n"
   ]
  },
  {
   "cell_type": "code",
   "execution_count": null,
   "metadata": {},
   "outputs": [],
   "source": []
  },
  {
   "cell_type": "code",
   "execution_count": null,
   "metadata": {},
   "outputs": [],
   "source": []
  },
  {
   "cell_type": "code",
   "execution_count": null,
   "metadata": {},
   "outputs": [],
   "source": []
  },
  {
   "cell_type": "code",
   "execution_count": null,
   "metadata": {},
   "outputs": [],
   "source": []
  }
 ],
 "metadata": {
  "kernelspec": {
   "display_name": "Python 3 (ipykernel)",
   "language": "python",
   "name": "python3"
  },
  "language_info": {
   "codemirror_mode": {
    "name": "ipython",
    "version": 3
   },
   "file_extension": ".py",
   "mimetype": "text/x-python",
   "name": "python",
   "nbconvert_exporter": "python",
   "pygments_lexer": "ipython3",
   "version": "3.10.11"
  }
 },
 "nbformat": 4,
 "nbformat_minor": 4
}
