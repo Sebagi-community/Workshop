{
  "cells": [
    {
      "cell_type": "markdown",
      "metadata": {
        "id": "view-in-github",
        "colab_type": "text"
      },
      "source": [
        "<a href=\"https://colab.research.google.com/github/Sebagi-community/Workshop/blob/main/workshop/rasa/app.ipynb\" target=\"_parent\"><img src=\"https://colab.research.google.com/assets/colab-badge.svg\" alt=\"Open In Colab\"/></a>"
      ]
    },
    {
      "cell_type": "markdown",
      "source": [
        "# 파이썬을 활용한 챗봇 실행파일\n"
      ],
      "metadata": {
        "id": "VslRO3AX56mu"
      }
    },
    {
      "cell_type": "code",
      "execution_count": 32,
      "metadata": {
        "colab": {
          "base_uri": "https://localhost:8080/"
        },
        "id": "eMvx_5TMmSZ_",
        "outputId": "64bb6e59-6a33-44d9-a26a-d79082323194"
      },
      "outputs": [
        {
          "output_type": "stream",
          "name": "stdout",
          "text": [
            "Requirement already satisfied: sounddevice in /usr/local/lib/python3.10/dist-packages (0.4.6)\n",
            "Requirement already satisfied: numpy in /usr/local/lib/python3.10/dist-packages (1.26.4)\n",
            "Requirement already satisfied: SpeechRecognition in /usr/local/lib/python3.10/dist-packages (3.10.4)\n",
            "Requirement already satisfied: beautifulsoup4 in /usr/local/lib/python3.10/dist-packages (4.12.3)\n",
            "Requirement already satisfied: CFFI>=1.0 in /usr/local/lib/python3.10/dist-packages (from sounddevice) (1.17.1)\n",
            "Requirement already satisfied: requests>=2.26.0 in /usr/local/lib/python3.10/dist-packages (from SpeechRecognition) (2.32.3)\n",
            "Requirement already satisfied: typing-extensions in /usr/local/lib/python3.10/dist-packages (from SpeechRecognition) (4.12.2)\n",
            "Requirement already satisfied: soupsieve>1.2 in /usr/local/lib/python3.10/dist-packages (from beautifulsoup4) (2.6)\n",
            "Requirement already satisfied: pycparser in /usr/local/lib/python3.10/dist-packages (from CFFI>=1.0->sounddevice) (2.22)\n",
            "Requirement already satisfied: charset-normalizer<4,>=2 in /usr/local/lib/python3.10/dist-packages (from requests>=2.26.0->SpeechRecognition) (3.3.2)\n",
            "Requirement already satisfied: idna<4,>=2.5 in /usr/local/lib/python3.10/dist-packages (from requests>=2.26.0->SpeechRecognition) (3.10)\n",
            "Requirement already satisfied: urllib3<3,>=1.21.1 in /usr/local/lib/python3.10/dist-packages (from requests>=2.26.0->SpeechRecognition) (2.0.7)\n",
            "Requirement already satisfied: certifi>=2017.4.17 in /usr/local/lib/python3.10/dist-packages (from requests>=2.26.0->SpeechRecognition) (2024.8.30)\n"
          ]
        }
      ],
      "source": [
        "!pip install sounddevice numpy SpeechRecognition beautifulsoup4"
      ]
    },
    {
      "cell_type": "code",
      "execution_count": 33,
      "metadata": {
        "colab": {
          "base_uri": "https://localhost:8080/"
        },
        "id": "BwIZWYktmSaA",
        "outputId": "26750959-ae78-4711-ac45-a90fa768e9cf"
      },
      "outputs": [
        {
          "output_type": "stream",
          "name": "stdout",
          "text": [
            "Requirement already satisfied: sounddevice in /usr/local/lib/python3.10/dist-packages (0.4.6)\n",
            "Requirement already satisfied: soundfile in /usr/local/lib/python3.10/dist-packages (0.12.1)\n",
            "Requirement already satisfied: SpeechRecognition in /usr/local/lib/python3.10/dist-packages (3.10.4)\n",
            "Requirement already satisfied: CFFI>=1.0 in /usr/local/lib/python3.10/dist-packages (from sounddevice) (1.17.1)\n",
            "Requirement already satisfied: requests>=2.26.0 in /usr/local/lib/python3.10/dist-packages (from SpeechRecognition) (2.32.3)\n",
            "Requirement already satisfied: typing-extensions in /usr/local/lib/python3.10/dist-packages (from SpeechRecognition) (4.12.2)\n",
            "Requirement already satisfied: pycparser in /usr/local/lib/python3.10/dist-packages (from CFFI>=1.0->sounddevice) (2.22)\n",
            "Requirement already satisfied: charset-normalizer<4,>=2 in /usr/local/lib/python3.10/dist-packages (from requests>=2.26.0->SpeechRecognition) (3.3.2)\n",
            "Requirement already satisfied: idna<4,>=2.5 in /usr/local/lib/python3.10/dist-packages (from requests>=2.26.0->SpeechRecognition) (3.10)\n",
            "Requirement already satisfied: urllib3<3,>=1.21.1 in /usr/local/lib/python3.10/dist-packages (from requests>=2.26.0->SpeechRecognition) (2.0.7)\n",
            "Requirement already satisfied: certifi>=2017.4.17 in /usr/local/lib/python3.10/dist-packages (from requests>=2.26.0->SpeechRecognition) (2024.8.30)\n"
          ]
        }
      ],
      "source": [
        "!pip install sounddevice soundfile SpeechRecognition"
      ]
    },
    {
      "cell_type": "code",
      "execution_count": 34,
      "metadata": {
        "colab": {
          "base_uri": "https://localhost:8080/"
        },
        "id": "wERR3CjomSaA",
        "outputId": "8bd1eeaf-8277-42a1-ce34-65fa5e985acb"
      },
      "outputs": [
        {
          "output_type": "stream",
          "name": "stdout",
          "text": [
            "Requirement already satisfied: numpy in /usr/local/lib/python3.10/dist-packages (1.26.4)\n"
          ]
        }
      ],
      "source": [
        "!pip install numpy"
      ]
    },
    {
      "cell_type": "code",
      "execution_count": 35,
      "metadata": {
        "colab": {
          "base_uri": "https://localhost:8080/"
        },
        "id": "Pc-US6p7mSaA",
        "outputId": "29852056-33e5-414d-b6ce-028e207d5b0e"
      },
      "outputs": [
        {
          "output_type": "stream",
          "name": "stdout",
          "text": [
            "Requirement already satisfied: sounddevice in /usr/local/lib/python3.10/dist-packages (0.4.6)\n",
            "Requirement already satisfied: numpy in /usr/local/lib/python3.10/dist-packages (1.26.4)\n",
            "Requirement already satisfied: SpeechRecognition in /usr/local/lib/python3.10/dist-packages (3.10.4)\n",
            "Requirement already satisfied: CFFI>=1.0 in /usr/local/lib/python3.10/dist-packages (from sounddevice) (1.17.1)\n",
            "Requirement already satisfied: requests>=2.26.0 in /usr/local/lib/python3.10/dist-packages (from SpeechRecognition) (2.32.3)\n",
            "Requirement already satisfied: typing-extensions in /usr/local/lib/python3.10/dist-packages (from SpeechRecognition) (4.12.2)\n",
            "Requirement already satisfied: pycparser in /usr/local/lib/python3.10/dist-packages (from CFFI>=1.0->sounddevice) (2.22)\n",
            "Requirement already satisfied: charset-normalizer<4,>=2 in /usr/local/lib/python3.10/dist-packages (from requests>=2.26.0->SpeechRecognition) (3.3.2)\n",
            "Requirement already satisfied: idna<4,>=2.5 in /usr/local/lib/python3.10/dist-packages (from requests>=2.26.0->SpeechRecognition) (3.10)\n",
            "Requirement already satisfied: urllib3<3,>=1.21.1 in /usr/local/lib/python3.10/dist-packages (from requests>=2.26.0->SpeechRecognition) (2.0.7)\n",
            "Requirement already satisfied: certifi>=2017.4.17 in /usr/local/lib/python3.10/dist-packages (from requests>=2.26.0->SpeechRecognition) (2024.8.30)\n"
          ]
        }
      ],
      "source": [
        "!pip install sounddevice numpy SpeechRecognition"
      ]
    },
    {
      "cell_type": "code",
      "execution_count": 31,
      "metadata": {
        "colab": {
          "base_uri": "https://localhost:8080/"
        },
        "id": "GJS0qOFsmSaB",
        "outputId": "32ec5a63-e137-4842-8729-5dce59ec0a6c"
      },
      "outputs": [
        {
          "output_type": "stream",
          "name": "stdout",
          "text": [
            "Requirement already satisfied: pip in /usr/local/lib/python3.10/dist-packages (24.1.2)\n",
            "Collecting pip\n",
            "  Using cached pip-24.2-py3-none-any.whl.metadata (3.6 kB)\n",
            "Using cached pip-24.2-py3-none-any.whl (1.8 MB)\n",
            "Installing collected packages: pip\n",
            "  Attempting uninstall: pip\n",
            "    Found existing installation: pip 24.1.2\n",
            "    Uninstalling pip-24.1.2:\n",
            "      Successfully uninstalled pip-24.1.2\n",
            "Successfully installed pip-24.2\n"
          ]
        }
      ],
      "source": [
        "!pip install --upgrade pip"
      ]
    },
    {
      "cell_type": "code",
      "execution_count": 46,
      "metadata": {
        "colab": {
          "base_uri": "https://localhost:8080/"
        },
        "id": "MaAudK2FmSaB",
        "outputId": "8295f198-6a34-4190-e658-21e05bcc1d71"
      },
      "outputs": [
        {
          "output_type": "execute_result",
          "data": {
            "text/plain": [
              "['Requirement already satisfied: flask in /usr/local/lib/python3.10/dist-packages (2.2.5)',\n",
              " 'Requirement already satisfied: Werkzeug>=2.2.2 in /usr/local/lib/python3.10/dist-packages (from flask) (3.0.4)',\n",
              " 'Requirement already satisfied: Jinja2>=3.0 in /usr/local/lib/python3.10/dist-packages (from flask) (3.1.4)',\n",
              " 'Requirement already satisfied: itsdangerous>=2.0 in /usr/local/lib/python3.10/dist-packages (from flask) (2.2.0)',\n",
              " 'Requirement already satisfied: click>=8.0 in /usr/local/lib/python3.10/dist-packages (from flask) (8.1.7)',\n",
              " 'Requirement already satisfied: MarkupSafe>=2.0 in /usr/local/lib/python3.10/dist-packages (from Jinja2>=3.0->flask) (2.1.5)']"
            ]
          },
          "metadata": {},
          "execution_count": 46
        }
      ],
      "source": [
        "!!pip install flask"
      ]
    },
    {
      "cell_type": "code",
      "source": [
        "!pip install --upgrade flask-cors\n"
      ],
      "metadata": {
        "colab": {
          "base_uri": "https://localhost:8080/",
          "height": 411
        },
        "id": "n41eSXnWvEfC",
        "outputId": "c3c61bd5-442a-49b8-a184-77a11dc9b9cc"
      },
      "execution_count": 47,
      "outputs": [
        {
          "output_type": "stream",
          "name": "stdout",
          "text": [
            "Requirement already satisfied: flask-cors in /usr/local/lib/python3.10/dist-packages (1.10.1)\n",
            "Collecting flask-cors\n",
            "  Downloading Flask_Cors-5.0.0-py2.py3-none-any.whl.metadata (5.5 kB)\n",
            "Requirement already satisfied: Flask>=0.9 in /usr/local/lib/python3.10/dist-packages (from flask-cors) (2.2.5)\n",
            "Requirement already satisfied: Werkzeug>=2.2.2 in /usr/local/lib/python3.10/dist-packages (from Flask>=0.9->flask-cors) (3.0.4)\n",
            "Requirement already satisfied: Jinja2>=3.0 in /usr/local/lib/python3.10/dist-packages (from Flask>=0.9->flask-cors) (3.1.4)\n",
            "Requirement already satisfied: itsdangerous>=2.0 in /usr/local/lib/python3.10/dist-packages (from Flask>=0.9->flask-cors) (2.2.0)\n",
            "Requirement already satisfied: click>=8.0 in /usr/local/lib/python3.10/dist-packages (from Flask>=0.9->flask-cors) (8.1.7)\n",
            "Requirement already satisfied: MarkupSafe>=2.0 in /usr/local/lib/python3.10/dist-packages (from Jinja2>=3.0->Flask>=0.9->flask-cors) (2.1.5)\n",
            "Downloading Flask_Cors-5.0.0-py2.py3-none-any.whl (14 kB)\n",
            "Installing collected packages: flask-cors\n",
            "  Attempting uninstall: flask-cors\n",
            "    Found existing installation: Flask-Cors 1.10.1\n",
            "    Uninstalling Flask-Cors-1.10.1:\n",
            "      Successfully uninstalled Flask-Cors-1.10.1\n",
            "Successfully installed flask-cors-5.0.0\n"
          ]
        },
        {
          "output_type": "display_data",
          "data": {
            "application/vnd.colab-display-data+json": {
              "pip_warning": {
                "packages": [
                  "flask_cors"
                ]
              },
              "id": "3036cf5403f84c8597b42a2c4c4fdb9b"
            }
          },
          "metadata": {}
        }
      ]
    },
    {
      "cell_type": "code",
      "execution_count": 37,
      "metadata": {
        "colab": {
          "base_uri": "https://localhost:8080/"
        },
        "id": "CA9tKV9zmSaB",
        "outputId": "58bcaaaa-4e25-4bf4-90d4-126e6348259f"
      },
      "outputs": [
        {
          "output_type": "stream",
          "name": "stdout",
          "text": [
            "Requirement already satisfied: requests in /usr/local/lib/python3.10/dist-packages (2.32.3)\n",
            "Requirement already satisfied: beautifulsoup4 in /usr/local/lib/python3.10/dist-packages (4.12.3)\n",
            "Requirement already satisfied: charset-normalizer<4,>=2 in /usr/local/lib/python3.10/dist-packages (from requests) (3.3.2)\n",
            "Requirement already satisfied: idna<4,>=2.5 in /usr/local/lib/python3.10/dist-packages (from requests) (3.10)\n",
            "Requirement already satisfied: urllib3<3,>=1.21.1 in /usr/local/lib/python3.10/dist-packages (from requests) (2.0.7)\n",
            "Requirement already satisfied: certifi>=2017.4.17 in /usr/local/lib/python3.10/dist-packages (from requests) (2024.8.30)\n",
            "Requirement already satisfied: soupsieve>1.2 in /usr/local/lib/python3.10/dist-packages (from beautifulsoup4) (2.6)\n"
          ]
        }
      ],
      "source": [
        "!pip install requests beautifulsoup4"
      ]
    },
    {
      "cell_type": "code",
      "execution_count": 38,
      "metadata": {
        "colab": {
          "base_uri": "https://localhost:8080/"
        },
        "id": "qYPi8gQimSaB",
        "outputId": "db33658b-1261-408f-840c-65684b26908e"
      },
      "outputs": [
        {
          "output_type": "stream",
          "name": "stdout",
          "text": [
            "Requirement already satisfied: flask-cors in /usr/local/lib/python3.10/dist-packages (1.10.1)\n",
            "Requirement already satisfied: Flask>=0.9 in /usr/local/lib/python3.10/dist-packages (from flask-cors) (2.2.5)\n",
            "Requirement already satisfied: Six in /usr/local/lib/python3.10/dist-packages (from flask-cors) (1.16.0)\n",
            "Requirement already satisfied: Werkzeug>=2.2.2 in /usr/local/lib/python3.10/dist-packages (from Flask>=0.9->flask-cors) (3.0.4)\n",
            "Requirement already satisfied: Jinja2>=3.0 in /usr/local/lib/python3.10/dist-packages (from Flask>=0.9->flask-cors) (3.1.4)\n",
            "Requirement already satisfied: itsdangerous>=2.0 in /usr/local/lib/python3.10/dist-packages (from Flask>=0.9->flask-cors) (2.2.0)\n",
            "Requirement already satisfied: click>=8.0 in /usr/local/lib/python3.10/dist-packages (from Flask>=0.9->flask-cors) (8.1.7)\n",
            "Requirement already satisfied: MarkupSafe>=2.0 in /usr/local/lib/python3.10/dist-packages (from Jinja2>=3.0->Flask>=0.9->flask-cors) (2.1.5)\n"
          ]
        }
      ],
      "source": [
        "!pip install flask-cors"
      ]
    },
    {
      "cell_type": "code",
      "source": [
        "!pip install Flask flask-cors SpeechRecognition"
      ],
      "metadata": {
        "colab": {
          "base_uri": "https://localhost:8080/"
        },
        "id": "hOlQV3LpvwOP",
        "outputId": "77efef7d-9fa9-4174-f37b-234289878d8f"
      },
      "execution_count": 2,
      "outputs": [
        {
          "output_type": "stream",
          "name": "stdout",
          "text": [
            "Requirement already satisfied: Flask in /usr/local/lib/python3.10/dist-packages (2.2.5)\n",
            "Requirement already satisfied: flask-cors in /usr/local/lib/python3.10/dist-packages (5.0.0)\n",
            "Requirement already satisfied: SpeechRecognition in /usr/local/lib/python3.10/dist-packages (3.10.4)\n",
            "Requirement already satisfied: Werkzeug>=2.2.2 in /usr/local/lib/python3.10/dist-packages (from Flask) (3.0.4)\n",
            "Requirement already satisfied: Jinja2>=3.0 in /usr/local/lib/python3.10/dist-packages (from Flask) (3.1.4)\n",
            "Requirement already satisfied: itsdangerous>=2.0 in /usr/local/lib/python3.10/dist-packages (from Flask) (2.2.0)\n",
            "Requirement already satisfied: click>=8.0 in /usr/local/lib/python3.10/dist-packages (from Flask) (8.1.7)\n",
            "Requirement already satisfied: requests>=2.26.0 in /usr/local/lib/python3.10/dist-packages (from SpeechRecognition) (2.32.3)\n",
            "Requirement already satisfied: typing-extensions in /usr/local/lib/python3.10/dist-packages (from SpeechRecognition) (4.12.2)\n",
            "Requirement already satisfied: MarkupSafe>=2.0 in /usr/local/lib/python3.10/dist-packages (from Jinja2>=3.0->Flask) (2.1.5)\n",
            "Requirement already satisfied: charset-normalizer<4,>=2 in /usr/local/lib/python3.10/dist-packages (from requests>=2.26.0->SpeechRecognition) (3.3.2)\n",
            "Requirement already satisfied: idna<4,>=2.5 in /usr/local/lib/python3.10/dist-packages (from requests>=2.26.0->SpeechRecognition) (3.10)\n",
            "Requirement already satisfied: urllib3<3,>=1.21.1 in /usr/local/lib/python3.10/dist-packages (from requests>=2.26.0->SpeechRecognition) (2.0.7)\n",
            "Requirement already satisfied: certifi>=2017.4.17 in /usr/local/lib/python3.10/dist-packages (from requests>=2.26.0->SpeechRecognition) (2024.8.30)\n"
          ]
        }
      ]
    },
    {
      "cell_type": "code",
      "execution_count": 39,
      "metadata": {
        "colab": {
          "base_uri": "https://localhost:8080/"
        },
        "id": "RlyZtm48mSaC",
        "outputId": "8f6d6251-62bd-4392-9ee4-c59363af6fd8"
      },
      "outputs": [
        {
          "output_type": "stream",
          "name": "stdout",
          "text": [
            "Requirement already satisfied: gunicorn in /usr/local/lib/python3.10/dist-packages (23.0.0)\n",
            "Requirement already satisfied: packaging in /usr/local/lib/python3.10/dist-packages (from gunicorn) (24.1)\n"
          ]
        }
      ],
      "source": [
        "!pip install gunicorn"
      ]
    },
    {
      "cell_type": "code",
      "execution_count": 40,
      "metadata": {
        "colab": {
          "base_uri": "https://localhost:8080/"
        },
        "id": "bf4FQaI-mSaD",
        "outputId": "bab4552a-b591-4a2c-a448-ba083900cb50"
      },
      "outputs": [
        {
          "output_type": "stream",
          "name": "stdout",
          "text": [
            "[2024-09-20 09:19:33 +0000] [8825] [INFO] Starting gunicorn 23.0.0\n",
            "[2024-09-20 09:19:33 +0000] [8825] [INFO] Listening at: http://0.0.0.0:5005 (8825)\n",
            "[2024-09-20 09:19:33 +0000] [8825] [INFO] Using worker: sync\n",
            "[2024-09-20 09:19:33 +0000] [8826] [INFO] Booting worker with pid: 8826\n",
            "[2024-09-20 09:19:33 +0000] [8826] [ERROR] Exception in worker process\n",
            "Traceback (most recent call last):\n",
            "  File \"/usr/local/lib/python3.10/dist-packages/gunicorn/arbiter.py\", line 608, in spawn_worker\n",
            "    worker.init_process()\n",
            "  File \"/usr/local/lib/python3.10/dist-packages/gunicorn/workers/base.py\", line 135, in init_process\n",
            "    self.load_wsgi()\n",
            "  File \"/usr/local/lib/python3.10/dist-packages/gunicorn/workers/base.py\", line 147, in load_wsgi\n",
            "    self.wsgi = self.app.wsgi()\n",
            "  File \"/usr/local/lib/python3.10/dist-packages/gunicorn/app/base.py\", line 66, in wsgi\n",
            "    self.callable = self.load()\n",
            "  File \"/usr/local/lib/python3.10/dist-packages/gunicorn/app/wsgiapp.py\", line 57, in load\n",
            "    return self.load_wsgiapp()\n",
            "  File \"/usr/local/lib/python3.10/dist-packages/gunicorn/app/wsgiapp.py\", line 47, in load_wsgiapp\n",
            "    return util.import_app(self.app_uri)\n",
            "  File \"/usr/local/lib/python3.10/dist-packages/gunicorn/util.py\", line 370, in import_app\n",
            "    mod = importlib.import_module(module)\n",
            "  File \"/usr/lib/python3.10/importlib/__init__.py\", line 126, in import_module\n",
            "    return _bootstrap._gcd_import(name[level:], package, level)\n",
            "  File \"<frozen importlib._bootstrap>\", line 1050, in _gcd_import\n",
            "  File \"<frozen importlib._bootstrap>\", line 1027, in _find_and_load\n",
            "  File \"<frozen importlib._bootstrap>\", line 1004, in _find_and_load_unlocked\n",
            "ModuleNotFoundError: No module named 'main'\n",
            "[2024-09-20 09:19:34 +0000] [8826] [INFO] Worker exiting (pid: 8826)\n",
            "[2024-09-20 09:19:34 +0000] [8827] [INFO] Booting worker with pid: 8827\n",
            "[2024-09-20 09:19:34 +0000] [8828] [INFO] Booting worker with pid: 8828\n",
            "[2024-09-20 09:19:34 +0000] [8827] [ERROR] Exception in worker process\n",
            "Traceback (most recent call last):\n",
            "  File \"/usr/local/lib/python3.10/dist-packages/gunicorn/arbiter.py\", line 608, in spawn_worker\n",
            "    worker.init_process()\n",
            "  File \"/usr/local/lib/python3.10/dist-packages/gunicorn/workers/base.py\", line 135, in init_process\n",
            "    self.load_wsgi()\n",
            "  File \"/usr/local/lib/python3.10/dist-packages/gunicorn/workers/base.py\", line 147, in load_wsgi\n",
            "    self.wsgi = self.app.wsgi()\n",
            "  File \"/usr/local/lib/python3.10/dist-packages/gunicorn/app/base.py\", line 66, in wsgi\n",
            "    self.callable = self.load()\n",
            "  File \"/usr/local/lib/python3.10/dist-packages/gunicorn/app/wsgiapp.py\", line 57, in load\n",
            "    return self.load_wsgiapp()\n",
            "  File \"/usr/local/lib/python3.10/dist-packages/gunicorn/app/wsgiapp.py\", line 47, in load_wsgiapp\n",
            "    return util.import_app(self.app_uri)\n",
            "  File \"/usr/local/lib/python3.10/dist-packages/gunicorn/util.py\", line 370, in import_app\n",
            "    mod = importlib.import_module(module)\n",
            "  File \"/usr/lib/python3.10/importlib/__init__.py\", line 126, in import_module\n",
            "    return _bootstrap._gcd_import(name[level:], package, level)\n",
            "  File \"<frozen importlib._bootstrap>\", line 1050, in _gcd_import\n",
            "  File \"<frozen importlib._bootstrap>\", line 1027, in _find_and_load\n",
            "  File \"<frozen importlib._bootstrap>\", line 1004, in _find_and_load_unlocked\n",
            "ModuleNotFoundError: No module named 'main'\n",
            "[2024-09-20 09:19:34 +0000] [8827] [INFO] Worker exiting (pid: 8827)\n",
            "[2024-09-20 09:19:34 +0000] [8828] [ERROR] Exception in worker process\n",
            "Traceback (most recent call last):\n",
            "  File \"/usr/local/lib/python3.10/dist-packages/gunicorn/arbiter.py\", line 608, in spawn_worker\n",
            "    worker.init_process()\n",
            "  File \"/usr/local/lib/python3.10/dist-packages/gunicorn/workers/base.py\", line 135, in init_process\n",
            "    self.load_wsgi()\n",
            "  File \"/usr/local/lib/python3.10/dist-packages/gunicorn/workers/base.py\", line 147, in load_wsgi\n",
            "    self.wsgi = self.app.wsgi()\n",
            "  File \"/usr/local/lib/python3.10/dist-packages/gunicorn/app/base.py\", line 66, in wsgi\n",
            "    self.callable = self.load()\n",
            "  File \"/usr/local/lib/python3.10/dist-packages/gunicorn/app/wsgiapp.py\", line 57, in load\n",
            "    return self.load_wsgiapp()\n",
            "  File \"/usr/local/lib/python3.10/dist-packages/gunicorn/app/wsgiapp.py\", line 47, in load_wsgiapp\n",
            "    return util.import_app(self.app_uri)\n",
            "  File \"/usr/local/lib/python3.10/dist-packages/gunicorn/util.py\", line 370, in import_app\n",
            "    mod = importlib.import_module(module)\n",
            "  File \"/usr/lib/python3.10/importlib/__init__.py\", line 126, in import_module\n",
            "    return _bootstrap._gcd_import(name[level:], package, level)\n",
            "  File \"<frozen importlib._bootstrap>\", line 1050, in _gcd_import\n",
            "  File \"<frozen importlib._bootstrap>\", line 1027, in _find_and_load\n",
            "  File \"<frozen importlib._bootstrap>\", line 1004, in _find_and_load_unlocked\n",
            "ModuleNotFoundError: No module named 'main'\n",
            "[2024-09-20 09:19:34 +0000] [8828] [INFO] Worker exiting (pid: 8828)\n",
            "[2024-09-20 09:19:34 +0000] [8825] [ERROR] Worker (pid:8826) exited with code 3\n",
            "[2024-09-20 09:19:34 +0000] [8825] [ERROR] Worker (pid:8828) was sent SIGTERM!\n",
            "--- Logging error ---\n",
            "Traceback (most recent call last):\n",
            "  File \"/usr/local/lib/python3.10/dist-packages/gunicorn/arbiter.py\", line 208, in run\n",
            "    self.sleep()\n",
            "  File \"/usr/local/lib/python3.10/dist-packages/gunicorn/arbiter.py\", line 359, in sleep\n",
            "    ready = select.select([self.PIPE[0]], [], [], 1.0)\n",
            "  File \"/usr/local/lib/python3.10/dist-packages/gunicorn/arbiter.py\", line 241, in handle_chld\n",
            "    self.reap_workers()\n",
            "  File \"/usr/local/lib/python3.10/dist-packages/gunicorn/arbiter.py\", line 529, in reap_workers\n",
            "    raise HaltServer(reason, self.WORKER_BOOT_ERROR)\n",
            "gunicorn.errors.HaltServer: <HaltServer 'Worker failed to boot.' 3>\n",
            "\n",
            "During handling of the above exception, another exception occurred:\n",
            "\n",
            "Traceback (most recent call last):\n",
            "  File \"/usr/lib/python3.10/logging/__init__.py\", line 1103, in emit\n",
            "    stream.write(msg + self.terminator)\n",
            "RuntimeError: reentrant call inside <_io.BufferedWriter name='<stderr>'>\n",
            "\n",
            "During handling of the above exception, another exception occurred:\n",
            "\n",
            "Traceback (most recent call last):\n",
            "  File \"/usr/lib/python3.10/logging/__init__.py\", line 1103, in emit\n",
            "    stream.write(msg + self.terminator)\n",
            "  File \"/usr/local/lib/python3.10/dist-packages/gunicorn/arbiter.py\", line 241, in handle_chld\n",
            "    self.reap_workers()\n",
            "  File \"/usr/local/lib/python3.10/dist-packages/gunicorn/arbiter.py\", line 553, in reap_workers\n",
            "    self.log.error(msg)\n",
            "  File \"/usr/local/lib/python3.10/dist-packages/gunicorn/glogging.py\", line 271, in error\n",
            "    self.error_log.error(msg, *args, **kwargs)\n",
            "  File \"/usr/lib/python3.10/logging/__init__.py\", line 1506, in error\n",
            "    self._log(ERROR, msg, args, **kwargs)\n",
            "  File \"/usr/lib/python3.10/logging/__init__.py\", line 1624, in _log\n",
            "    self.handle(record)\n",
            "  File \"/usr/lib/python3.10/logging/__init__.py\", line 1634, in handle\n",
            "    self.callHandlers(record)\n",
            "  File \"/usr/lib/python3.10/logging/__init__.py\", line 1696, in callHandlers\n",
            "    hdlr.handle(record)\n",
            "  File \"/usr/lib/python3.10/logging/__init__.py\", line 968, in handle\n",
            "    self.emit(record)\n",
            "  File \"/usr/lib/python3.10/logging/__init__.py\", line 1108, in emit\n",
            "    self.handleError(record)\n",
            "  File \"/usr/lib/python3.10/logging/__init__.py\", line 1021, in handleError\n",
            "    sys.stderr.write('--- Logging error ---\\n')\n",
            "RuntimeError: reentrant call inside <_io.BufferedWriter name='<stderr>'>\n",
            "Call stack:\n",
            "  File \"/usr/local/bin/gunicorn\", line 8, in <module>\n",
            "    sys.exit(run())\n",
            "  File \"/usr/local/lib/python3.10/dist-packages/gunicorn/app/wsgiapp.py\", line 66, in run\n",
            "    WSGIApplication(\"%(prog)s [OPTIONS] [APP_MODULE]\", prog=prog).run()\n",
            "  File \"/usr/local/lib/python3.10/dist-packages/gunicorn/app/base.py\", line 235, in run\n",
            "    super().run()\n",
            "  File \"/usr/local/lib/python3.10/dist-packages/gunicorn/app/base.py\", line 71, in run\n",
            "    Arbiter(self).run()\n",
            "  File \"/usr/local/lib/python3.10/dist-packages/gunicorn/arbiter.py\", line 228, in run\n",
            "    self.halt(reason=inst.reason, exit_status=inst.exit_status)\n",
            "  File \"/usr/local/lib/python3.10/dist-packages/gunicorn/arbiter.py\", line 341, in halt\n",
            "    self.stop()\n",
            "  File \"/usr/local/lib/python3.10/dist-packages/gunicorn/arbiter.py\", line 395, in stop\n",
            "    time.sleep(0.1)\n",
            "  File \"/usr/local/lib/python3.10/dist-packages/gunicorn/arbiter.py\", line 241, in handle_chld\n",
            "    self.reap_workers()\n",
            "  File \"/usr/local/lib/python3.10/dist-packages/gunicorn/arbiter.py\", line 553, in reap_workers\n",
            "    self.log.error(msg)\n",
            "  File \"/usr/local/lib/python3.10/dist-packages/gunicorn/glogging.py\", line 271, in error\n",
            "    self.error_log.error(msg, *args, **kwargs)\n",
            "Message: 'Worker (pid:8828) was sent SIGTERM!'\n",
            "Arguments: ()\n",
            "[2024-09-20 09:20:04 +0000] [8825] [ERROR] Shutting down: Master\n",
            "[2024-09-20 09:20:04 +0000] [8825] [ERROR] Reason: Worker failed to boot.\n"
          ]
        }
      ],
      "source": [
        "!gunicorn --workers 3 --bind 0.0.0.0:5005 main:app"
      ]
    },
    {
      "cell_type": "code",
      "source": [
        "!pip install flask-cors==1.10.1"
      ],
      "metadata": {
        "colab": {
          "base_uri": "https://localhost:8080/"
        },
        "id": "t7UJw-SoqmNv",
        "outputId": "c19ef337-3c7d-42f5-c17d-2de3682506ec"
      },
      "execution_count": 41,
      "outputs": [
        {
          "output_type": "stream",
          "name": "stdout",
          "text": [
            "Requirement already satisfied: flask-cors==1.10.1 in /usr/local/lib/python3.10/dist-packages (1.10.1)\n",
            "Requirement already satisfied: Flask>=0.9 in /usr/local/lib/python3.10/dist-packages (from flask-cors==1.10.1) (2.2.5)\n",
            "Requirement already satisfied: Six in /usr/local/lib/python3.10/dist-packages (from flask-cors==1.10.1) (1.16.0)\n",
            "Requirement already satisfied: Werkzeug>=2.2.2 in /usr/local/lib/python3.10/dist-packages (from Flask>=0.9->flask-cors==1.10.1) (3.0.4)\n",
            "Requirement already satisfied: Jinja2>=3.0 in /usr/local/lib/python3.10/dist-packages (from Flask>=0.9->flask-cors==1.10.1) (3.1.4)\n",
            "Requirement already satisfied: itsdangerous>=2.0 in /usr/local/lib/python3.10/dist-packages (from Flask>=0.9->flask-cors==1.10.1) (2.2.0)\n",
            "Requirement already satisfied: click>=8.0 in /usr/local/lib/python3.10/dist-packages (from Flask>=0.9->flask-cors==1.10.1) (8.1.7)\n",
            "Requirement already satisfied: MarkupSafe>=2.0 in /usr/local/lib/python3.10/dist-packages (from Jinja2>=3.0->Flask>=0.9->flask-cors==1.10.1) (2.1.5)\n"
          ]
        }
      ]
    },
    {
      "cell_type": "code",
      "source": [
        "!pip install SpeechRecognition"
      ],
      "metadata": {
        "colab": {
          "base_uri": "https://localhost:8080/"
        },
        "id": "YdIW_SMCrn8m",
        "outputId": "3a56f826-a79b-418f-8b3a-82e757faa72f"
      },
      "execution_count": 42,
      "outputs": [
        {
          "output_type": "stream",
          "name": "stdout",
          "text": [
            "Requirement already satisfied: SpeechRecognition in /usr/local/lib/python3.10/dist-packages (3.10.4)\n",
            "Requirement already satisfied: requests>=2.26.0 in /usr/local/lib/python3.10/dist-packages (from SpeechRecognition) (2.32.3)\n",
            "Requirement already satisfied: typing-extensions in /usr/local/lib/python3.10/dist-packages (from SpeechRecognition) (4.12.2)\n",
            "Requirement already satisfied: charset-normalizer<4,>=2 in /usr/local/lib/python3.10/dist-packages (from requests>=2.26.0->SpeechRecognition) (3.3.2)\n",
            "Requirement already satisfied: idna<4,>=2.5 in /usr/local/lib/python3.10/dist-packages (from requests>=2.26.0->SpeechRecognition) (3.10)\n",
            "Requirement already satisfied: urllib3<3,>=1.21.1 in /usr/local/lib/python3.10/dist-packages (from requests>=2.26.0->SpeechRecognition) (2.0.7)\n",
            "Requirement already satisfied: certifi>=2017.4.17 in /usr/local/lib/python3.10/dist-packages (from requests>=2.26.0->SpeechRecognition) (2024.8.30)\n"
          ]
        }
      ]
    },
    {
      "cell_type": "code",
      "source": [
        "!pip install python-dotenv"
      ],
      "metadata": {
        "colab": {
          "base_uri": "https://localhost:8080/"
        },
        "id": "G4a2XNcruOWT",
        "outputId": "1d693a62-4202-4f3e-c43f-b84a26831527"
      },
      "execution_count": 43,
      "outputs": [
        {
          "output_type": "stream",
          "name": "stdout",
          "text": [
            "Requirement already satisfied: python-dotenv in /usr/local/lib/python3.10/dist-packages (1.0.1)\n"
          ]
        }
      ]
    },
    {
      "cell_type": "code",
      "execution_count": null,
      "metadata": {
        "colab": {
          "base_uri": "https://localhost:8080/"
        },
        "id": "3VA_Ry8GmSaD",
        "outputId": "66d5ff4b-d38e-4281-d72a-bd44daa559e1"
      },
      "outputs": [
        {
          "output_type": "stream",
          "name": "stdout",
          "text": [
            " * Serving Flask app '__main__'\n",
            " * Debug mode: off\n"
          ]
        },
        {
          "output_type": "stream",
          "name": "stderr",
          "text": [
            "INFO:werkzeug:\u001b[31m\u001b[1mWARNING: This is a development server. Do not use it in a production deployment. Use a production WSGI server instead.\u001b[0m\n",
            " * Running on http://127.0.0.1:5000\n",
            "INFO:werkzeug:\u001b[33mPress CTRL+C to quit\u001b[0m\n"
          ]
        }
      ],
      "source": [
        "from flask import Flask, render_template, request, jsonify\n",
        "from flask_cors import CORS\n",
        "import sounddevice as sd\n",
        "import numpy as np\n",
        "import speech_recognition as sr\n",
        "import io\n",
        "import wave\n",
        "import logging\n",
        "from dotenv import load_dotenv\n",
        "import os\n",
        "import requests\n",
        "from bs4 import BeautifulSoup\n",
        "\n",
        "\n",
        "app = Flask(__name__)\n",
        "CORS(app)\n",
        "\n",
        "# 로깅 설정\n",
        "logging.basicConfig(level=logging.DEBUG)\n",
        "\n",
        "# .env 파일에서 환경 변수 로드\n",
        "load_dotenv()\n",
        "\n",
        "# 음성 녹음 함수\n",
        "def record_audio(duration=5, samplerate=16000):  # 샘플링 속도 16000Hz로 변경\n",
        "    logging.info(f\"{duration}초 동안 녹음을 시작합니다...\")\n",
        "    try:\n",
        "        recording = sd.rec(int(duration * samplerate), samplerate=samplerate, channels=1, dtype='int16')\n",
        "        sd.wait()\n",
        "        with io.BytesIO() as wav_buffer:\n",
        "            with wave.open(wav_buffer, 'wb') as wav_file:\n",
        "                wav_file.setnchannels(1)\n",
        "                wav_file.setsampwidth(2)\n",
        "                wav_file.setframerate(samplerate)\n",
        "                wav_file.writeframes(recording.tobytes())\n",
        "            wav_buffer.seek(0)\n",
        "            logging.info(\"녹음이 완료되었습니다!\")\n",
        "            return wav_buffer.read()\n",
        "    except Exception as e:\n",
        "        logging.error(f\"녹음 중 에러 발생: {e}\")\n",
        "        return None\n",
        "\n",
        "# 음성을 텍스트로 변환하는 함수\n",
        "def transcribe_audio(audio_data):\n",
        "    recognizer = sr.Recognizer()\n",
        "    try:\n",
        "        audio = sr.AudioData(audio_data, 16000, 2)  # 샘플링 속도 16000Hz로 변경\n",
        "        text = recognizer.recognize_google(audio, language='ko-KR')\n",
        "        logging.info(f\"인식된 텍스트: {text}\")\n",
        "        return text\n",
        "    except sr.UnknownValueError:\n",
        "        logging.error(\"음성을 인식할 수 없습니다.\")\n",
        "        return None\n",
        "    except sr.RequestError as e:\n",
        "        logging.error(f\"Google Speech Recognition 서비스 에러: {e}\")\n",
        "        return None\n",
        "    except Exception as e:\n",
        "        logging.error(f\"알 수 없는 오류 발생: {e}\")\n",
        "        return None\n",
        "\n",
        "# 네이버 뉴스 제목 가져오는 함수\n",
        "def get_news_titles(query, num_results=5):\n",
        "    url = f\"https://search.naver.com/search.naver?where=news&query={requests.utils.quote(query)}\"  # 쿼리 인코딩\n",
        "    headers = {\n",
        "        'User-Agent': 'Mozilla/5.0 (Windows NT 10.0; Win64; x64) AppleWebKit/537.36 (KHTML, like Gecko) Chrome/91.0.4472.124 Safari/537.36'\n",
        "    }\n",
        "\n",
        "    try:\n",
        "        response = requests.get(url, headers=headers)\n",
        "        response.raise_for_status()\n",
        "        soup = BeautifulSoup(response.text, 'html.parser')\n",
        "\n",
        "        titles_and_links = []\n",
        "        for a_tag in soup.find_all('a', class_='news_tit', limit=num_results):\n",
        "            title = a_tag.get_text()\n",
        "            link = a_tag['href']\n",
        "            titles_and_links.append({'title': title, 'link': link})\n",
        "\n",
        "        return titles_and_links\n",
        "    except requests.RequestException as e:\n",
        "        logging.error(f\"뉴스 제목 가져오기 중 에러 발생: {e}\")\n",
        "        return []\n",
        "\n",
        "# 기존 라우트\n",
        "@app.route('/')\n",
        "def home():\n",
        "    return render_template('index.html')\n",
        "\n",
        "@app.route('/data', methods=['GET'])\n",
        "def get_data():\n",
        "    return jsonify({'message': 'Data endpoint'})\n",
        "\n",
        "@app.route('/new', methods=['GET'])\n",
        "def new_feature():\n",
        "    return jsonify({'message': 'This is a new feature'})\n",
        "\n",
        "@app.route('/speech-to-text', methods=['POST'])\n",
        "def speech_to_text():\n",
        "    try:\n",
        "        audio_data = record_audio(duration=3)  # 3초 동안 녹음\n",
        "        if audio_data is None:\n",
        "            logging.error(\"녹음에 실패했습니다.\")\n",
        "            return jsonify({'message': \"녹음에 실패했습니다. 서버 로그를 확인하십시오.\"}), 400\n",
        "\n",
        "        text = transcribe_audio(audio_data)\n",
        "        if text:\n",
        "            titles = get_news_titles(text, num_results=10)\n",
        "            response = {\n",
        "                'text': text,\n",
        "                'titles': titles\n",
        "            }\n",
        "            return jsonify(response), 200\n",
        "        else:\n",
        "            logging.error(\"음성 인식에 실패했습니다.\")\n",
        "            return jsonify({'message': \"음성 인식에 실패했습니다. 서버 로그를 확인하십시오.\"}), 500\n",
        "    except Exception as e:\n",
        "        logging.exception(\"서버 오류 발생\")\n",
        "        return jsonify({'message': \"서버 오류가 발생했습니다. 서버 로그를 확인하십시오.\"}), 500\n",
        "\n",
        "# if __name__ == '__main__':\n",
        "#     app.run(host='localhost', port=5005, debug=False)\n",
        "\n",
        "\n",
        "if __name__ == '__main__':\n",
        "    app.run()\n"
      ]
    },
    {
      "cell_type": "code",
      "source": [],
      "metadata": {
        "id": "JHcR5kRZsGx-"
      },
      "execution_count": 3,
      "outputs": []
    }
  ],
  "metadata": {
    "kernelspec": {
      "display_name": "Python 3 (ipykernel)",
      "language": "python",
      "name": "python3"
    },
    "language_info": {
      "codemirror_mode": {
        "name": "ipython",
        "version": 3
      },
      "file_extension": ".py",
      "mimetype": "text/x-python",
      "name": "python",
      "nbconvert_exporter": "python",
      "pygments_lexer": "ipython3",
      "version": "3.10.11"
    },
    "colab": {
      "provenance": [],
      "toc_visible": true,
      "include_colab_link": true
    }
  },
  "nbformat": 4,
  "nbformat_minor": 0
}